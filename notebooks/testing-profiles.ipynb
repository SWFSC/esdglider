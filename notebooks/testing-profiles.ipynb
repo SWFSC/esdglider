{
 "cells": [
  {
   "cell_type": "code",
   "execution_count": null,
   "metadata": {},
   "outputs": [],
   "source": [
    "import os\n",
    "import numpy as np\n",
    "import pandas as pd\n",
    "import xarray as xr\n",
    "import math\n",
    "\n",
    "from esdglider import gcp, glider, utils\n",
    "\n",
    "# deployment_info = {\n",
    "#     \"deployment\": 'amlr08-20220513', \n",
    "#     \"project\": \"SANDIEGO\", \n",
    "#     \"mode\": 'delayed', \n",
    "#     \"min_dt\": '2022-05-13 18:56:55', \n",
    "# }\n",
    "deployment_info = {\n",
    "    \"deployment\": 'calanus-20241019', \n",
    "    \"project\": \"ECOSWIM\", \n",
    "    \"mode\": 'delayed', \n",
    "    \"min_dt\": '2024-10-19 17:37:00', \n",
    "}\n",
    "# deployment_info = {\n",
    "#     \"deployment\": 'amlr03-20231128', \n",
    "#     \"project\": \"FREEBYRD\", \n",
    "#     \"mode\": 'delayed', \n",
    "#     \"min_dt\": '2023-11-28 20:46', \n",
    "# }\n",
    "deployment = deployment_info[\"deployment\"]\n",
    "project = deployment_info[\"project\"]\n",
    "mode = deployment_info[\"mode\"]\n",
    "\n",
    "year = utils.year_path(project, deployment)\n",
    "bucket_name = 'amlr-gliders-deployments-dev'\n",
    "deployments_path = f\"/home/sam_woodman_noaa_gov/{bucket_name}\"\n",
    "config_path = f\"/home/sam_woodman_noaa_gov/glider-lab/deployment-config\"\n",
    "\n",
    "gcp.gcs_mount_bucket(\"amlr-gliders-deployments-dev\", deployments_path, ro=False)\n",
    "\n",
    "\n",
    "paths = glider.get_path_deployment(\n",
    "    deployment_info, deployments_path, config_path)\n",
    "\n",
    "dir_ts = paths[\"tsdir\"]\n",
    "path_raw = os.path.join(dir_ts, f\"{deployment}-{mode}-raw.nc\")\n",
    "path_sci = os.path.join(dir_ts, f\"{deployment}-{mode}-sci.nc\")\n",
    "path_eng = os.path.join(dir_ts, f\"{deployment}-{mode}-eng.nc\")\n",
    "\n",
    "# dir_ngdac = paths[\"profdir\"]\n",
    "# if os.path.isdir(dir_ngdac):\n",
    "#     files_ngdac = os.listdir(dir_ngdac)\n",
    "# files_ngdac\n",
    "# os.path.join(paths[\"profdir\"], f\"{deployment} -{mode}.nc\")\n",
    "# path_sci = os.path.join(dir_ts, 'calanus-20241019-sci.nc')\n",
    "# path_eng = os.path.join(dir_ts, 'calanus-20241019-eng.nc')\n"
   ]
  },
  {
   "cell_type": "code",
   "execution_count": null,
   "metadata": {},
   "outputs": [],
   "source": [
    "ds_raw = xr.load_dataset(path_raw)\n",
    "df_raw = ds_raw.to_pandas()\n",
    "display(ds_raw)\n",
    "\n",
    "ds_eng = xr.load_dataset(path_eng)\n",
    "df_eng = ds_eng.to_pandas()\n",
    "display(ds_eng)\n",
    "\n",
    "ds_sci = xr.load_dataset(path_sci)\n",
    "df_sci = ds_sci.to_pandas()\n",
    "display(ds_sci)"
   ]
  },
  {
   "cell_type": "markdown",
   "metadata": {},
   "source": [
    "## Profile checks"
   ]
  },
  {
   "cell_type": "code",
   "execution_count": null,
   "metadata": {},
   "outputs": [],
   "source": [
    "display(utils.check_profiles(ds_raw))\n",
    "display(utils.check_profiles(ds_eng))\n",
    "display(utils.check_profiles(ds_sci))\n",
    "\n",
    "# idx_list = [454.5, 578.5, 582.5, 586.5, 602.5, 626.5, 628.5, 630.5, 632.5, 634.5, 636.5, 650.5, 652.5]\n",
    "# p1 = utils.check_profiles(ds_sci)\n",
    "# p1e = p1[np.isin(p1[\"profile_ibndex\"], idx_list)]\n",
    "# p1e"
   ]
  },
  {
   "cell_type": "code",
   "execution_count": null,
   "metadata": {},
   "outputs": [],
   "source": [
    "# ds = ds_raw\n",
    "# dt = \"2022-05-14\"\n",
    "# ds_sub = ds.sel(time=slice(f\"{dt} 18:00\", dt))\n",
    "# ds_sub"
   ]
  },
  {
   "cell_type": "markdown",
   "metadata": {},
   "source": [
    "<!-- ## Testing new profile parameters -->"
   ]
  },
  {
   "cell_type": "markdown",
   "metadata": {},
   "source": [
    "## Exploring new profile calculations"
   ]
  },
  {
   "cell_type": "code",
   "execution_count": null,
   "metadata": {},
   "outputs": [],
   "source": [
    "# import math\n",
    "vars_keep = [\"longitude\", \"latitude\", \"depth\", #\"depth_ctd\", \n",
    "                \"profile_index\", \"profile_direction\"]\n",
    "x_orig = utils.data_var_reorder(ds_raw, vars_keep)\n",
    "regions_df_orig = utils.calc_regions(x_orig)\n",
    "\n",
    "# pgutils.get_profiles_new(x, filt_time=20)\n",
    "p1, p2 = utils.findProfiles(\n",
    "        x_orig.time.values,\n",
    "        x_orig.depth.values,\n",
    "        stall=10,\n",
    "        interrupt = 600,\n",
    "    )\n",
    "\n",
    "orig = [\"profile_index_orig\", \"profile_direction_orig\"]\n",
    "x = x_orig.rename_vars({\"profile_index\": orig[0], \"profile_direction\": orig[1]})\n",
    "x[\"profile_index\"] = ('time', p1, {})\n",
    "x[\"profile_direction\"] = ('time', p2, {})\n",
    "x = utils.data_var_reorder(x, (vars_keep + orig))\n",
    "\n",
    "# x[\"dives\"] = ('time', gt.utils.calc_dive_number(x.time.values, x.depth.values, dive_depth_threshold=15), {})\n",
    "# display(x)\n",
    "\n",
    "# ds = x\n",
    "# dt = \"2022-05-14\"\n",
    "# ds_sub = ds.sel(time=slice(f\"{dt} 18:00\", dt))\n",
    "# ds_sub"
   ]
  },
  {
   "cell_type": "code",
   "execution_count": null,
   "metadata": {},
   "outputs": [],
   "source": [
    "# Check profiles\n",
    "prof_summ = utils.check_profiles(x)\n",
    "print(f\"Dives: {np.count_nonzero(prof_summ.profile_description.values == \"Dive\")}\")\n",
    "prof_summ"
   ]
  },
  {
   "cell_type": "code",
   "execution_count": null,
   "metadata": {},
   "outputs": [],
   "source": [
    "# Check profiles on eng and sci datasets\n",
    "x_eng = utils.join_profiles(ds_eng, utils.calc_profile_summary(x))\n",
    "display(utils.check_profiles(x_eng))\n",
    "\n",
    "x_sci = utils.join_profiles(ds_sci, utils.calc_profile_summary(x))\n",
    "display(utils.check_profiles(x_sci))"
   ]
  },
  {
   "cell_type": "code",
   "execution_count": null,
   "metadata": {},
   "outputs": [],
   "source": [
    "# regions_df_orig = utils.calc_regions(x_orig)\n",
    "# regions_df = utils.calc_regions(x)\n",
    "# # display(regions_df)\n",
    "# # print(np.argwhere(regions_df_orig.profile_description == np.roll(regions_df_orig.profile_description, 1)))\n",
    "\n",
    "# # print(regions_df[\"profile_direction\"].value_counts())\n",
    "# print(\"------------\")\n",
    "# print(f\"Climbs orig: {np.count_nonzero(regions_df_orig[\"profile_direction\"] == -1)}\")\n",
    "# print(f\"Dives orig: {np.count_nonzero(regions_df_orig[\"profile_direction\"] == 1)}\")\n",
    "# utils.check_profiles(x_orig)\n",
    "\n",
    "# print(\"------------\")\n",
    "# print(f\"Climbs: {np.count_nonzero(regions_df[\"profile_direction\"] == -1)}\")\n",
    "# print(f\"Dives: {np.count_nonzero(regions_df[\"profile_direction\"] == 1)}\")\n",
    "# utils.check_profiles(x)\n",
    "\n",
    "# regions_df\n",
    "# regions_df_orig\n",
    "# \n",
    "# \n",
    "# prof_summ_df_orig = utils.check_profiles(x_orig)\n",
    "# prof_summ_df = utils.check_profiles(x)\n",
    "\n",
    "# between_df_orig = prof_summ_df_orig[prof_summ_df_orig[\"profile_index\"] % 1 == 0.5]\n",
    "# between_df = prof_summ_df[prof_summ_df[\"profile_index\"] % 1 == 0.5]\n",
    "\n",
    "# # print((between_df_orig.end_time - between_df_orig.start_time).describe())\n",
    "# # print((between_df.end_time - between_df.start_time).describe())\n",
    "\n",
    "# print(abs(between_df_orig.end_depth - between_df_orig.start_depth).describe())\n",
    "# print(abs(between_df.end_depth - between_df.start_depth).describe())\n",
    "\n",
    "# prof_summ_df_orig"
   ]
  }
 ],
 "metadata": {
  "kernelspec": {
   "display_name": "esdglider",
   "language": "python",
   "name": "python3"
  },
  "language_info": {
   "codemirror_mode": {
    "name": "ipython",
    "version": 3
   },
   "file_extension": ".py",
   "mimetype": "text/x-python",
   "name": "python",
   "nbconvert_exporter": "python",
   "pygments_lexer": "ipython3",
   "version": "3.12.9"
  }
 },
 "nbformat": 4,
 "nbformat_minor": 2
}
