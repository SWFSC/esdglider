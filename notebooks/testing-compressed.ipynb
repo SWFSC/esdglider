{
 "cells": [
  {
   "cell_type": "code",
   "execution_count": 5,
   "id": "b595d0cb",
   "metadata": {},
   "outputs": [
    {
     "name": "stdout",
     "output_type": "stream",
     "text": [
      "{\"timestamp\":{\"seconds\":1746228218,\"nanos\":603414369},\"severity\":\"INFO\",\"message\":\"Start gcsfuse/2.11.1 (Go version go1.24.0) for app \\\"\\\" using mount point: /home/sam_woodman_noaa_gov/amlr-gliders-deployments-dev\\n\"}\n",
      "{\"timestamp\":{\"seconds\":1746228218,\"nanos\":603453482},\"severity\":\"INFO\",\"message\":\"GCSFuse config\",\"config\":{\"AppName\":\"\",\"CacheDir\":\"\",\"Debug\":{\"ExitOnInvariantViolation\":false,\"Fuse\":false,\"Gcs\":false,\"LogMutex\":false},\"EnableAtomicRenameObject\":false,\"EnableHns\":true,\"FileCache\":{\"CacheFileForRangeRead\":false,\"DownloadChunkSizeMb\":50,\"EnableCrc\":false,\"EnableODirect\":false,\"EnableParallelDownloads\":false,\"ExperimentalParallelDownloadsDefaultOn\":false,\"MaxParallelDownloads\":16,\"MaxSizeMb\":-1,\"ParallelDownloadsPerFile\":16,\"WriteBufferSize\":4194304},\"FileSystem\":{\"DirMode\":\"755\",\"DisableParallelDirops\":false,\"FileMode\":\"644\",\"FuseOptions\":[],\"Gid\":-1,\"HandleSigterm\":true,\"IgnoreInterrupts\":true,\"KernelListCacheTtlSecs\":0,\"PreconditionErrors\":true,\"RenameDirLimit\":0,\"TempDir\":\"\",\"Uid\":-1},\"Foreground\":false,\"GcsAuth\":{\"AnonymousAccess\":false,\"KeyFile\":\"\",\"ReuseTokenFromUrl\":true,\"TokenUrl\":\"\"},\"GcsConnection\":{\"BillingProject\":\"\",\"ClientProtocol\":\"http1\",\"CustomEndpoint\":\"\",\"ExperimentalEnableJsonRead\":false,\"GrpcConnPoolSize\":1,\"HttpClientTimeout\":0,\"LimitBytesPerSec\":-1,\"LimitOpsPerSec\":-1,\"MaxConnsPerHost\":0,\"MaxIdleConnsPerHost\":100,\"SequentialReadSizeMb\":200},\"GcsRetries\":{\"ChunkTransferTimeoutSecs\":10,\"MaxRetryAttempts\":0,\"MaxRetrySleep\":30000000000,\"Multiplier\":2,\"ReadStall\":{\"Enable\":false,\"InitialReqTimeout\":20000000000,\"MaxReqTimeout\":1200000000000,\"MinReqTimeout\":1500000000,\"ReqIncreaseRate\":15,\"ReqTargetPercentile\":0.99}},\"ImplicitDirs\":true,\"List\":{\"EnableEmptyManagedFolders\":false},\"Logging\":{\"FilePath\":\"\",\"Format\":\"json\",\"LogRotate\":{\"BackupFileCount\":10,\"Compress\":true,\"MaxFileSizeMb\":512},\"Severity\":\"INFO\"},\"MetadataCache\":{\"DeprecatedStatCacheCapacity\":20460,\"DeprecatedStatCacheTtl\":60000000000,\"DeprecatedTypeCacheTtl\":60000000000,\"EnableNonexistentTypeCache\":false,\"ExperimentalMetadataPrefetchOnMount\":\"disabled\",\"NegativeTtlSecs\":5,\"StatCacheMaxSizeMb\":32,\"TtlSecs\":60,\"TypeCacheMaxSizeMb\":4},\"Metrics\":{\"CloudMetricsExportIntervalSecs\":0,\"EnableOtel\":true,\"PrometheusPort\":0,\"StackdriverExportInterval\":0},\"Monitoring\":{\"ExperimentalOpentelemetryCollectorAddress\":\"\",\"ExperimentalTracingMode\":\"\",\"ExperimentalTracingSamplingRatio\":0},\"OnlyDir\":\"\",\"Write\":{\"BlockSizeMb\":33554432,\"CreateEmptyFile\":false,\"EnableStreamingWrites\":false,\"GlobalMaxBlocks\":9223372036854775807,\"MaxBlocksPerFile\":1}}}\n",
      "{\"timestamp\":{\"seconds\":1746228218,\"nanos\":728167833},\"severity\":\"INFO\",\"message\":\"File system has been successfully mounted.\"}\n"
     ]
    }
   ],
   "source": [
    "import os\n",
    "import dbdreader\n",
    "from esdglider import gcp, glider\n",
    "\n",
    "deployment_info = {\n",
    "    \"deployment\": \"risso-20250414\",\n",
    "    \"project\": \"SANDIEGO\",\n",
    "    \"mode\": \"delayed\",\n",
    "    # \"min_dt\": \"2023-11-28 20:46\",\n",
    "}\n",
    "\n",
    "bucket_name = 'amlr-gliders-deployments-dev'\n",
    "deployments_path = f\"/home/sam_woodman_noaa_gov/{bucket_name}\"\n",
    "config_path = f\"/home/sam_woodman_noaa_gov/glider-lab/deployment-config\"\n",
    "\n",
    "gcp.gcs_mount_bucket(\"amlr-gliders-deployments-dev\", deployments_path, ro=False)\n",
    "\n",
    "paths = glider.get_path_deployment(deployment_info, deployments_path, \"\")\n",
    "paths[\"deploymentyaml\"] = \"/home/sam_woodman_noaa_gov/glider-utils/resources/example-data/config-basic.yml\""
   ]
  },
  {
   "cell_type": "code",
   "execution_count": 2,
   "id": "02b3238f",
   "metadata": {},
   "outputs": [
    {
     "data": {
      "text/plain": [
       "{'cacdir': '/home/sam_woodman_noaa_gov/amlr-gliders-deployments-dev/cache',\n",
       " 'binarydir': '/home/sam_woodman_noaa_gov/amlr-gliders-deployments-dev/SANDIEGO/2025/risso-20250414/data/binary/delayed',\n",
       " 'compressdir': '/home/sam_woodman_noaa_gov/amlr-gliders-deployments-dev/SANDIEGO/2025/risso-20250414/data/binary/delayed-compressed',\n",
       " 'deploymentyaml': '/home/sam_woodman_noaa_gov/glider-utils/resources/example-data/config-basic.yml',\n",
       " 'engyaml': '/home/sam_woodman_noaa_gov/glider-utils/esdglider/data/deployment-eng-vars.yml',\n",
       " 'logdir': '/home/sam_woodman_noaa_gov/amlr-gliders-deployments-dev/logs',\n",
       " 'rawdir': '/home/sam_woodman_noaa_gov/amlr-gliders-deployments-dev/SANDIEGO/2025/risso-20250414/data/processed-L1',\n",
       " 'tsdir': '/home/sam_woodman_noaa_gov/amlr-gliders-deployments-dev/SANDIEGO/2025/risso-20250414/data/processed-L1',\n",
       " 'griddir': '/home/sam_woodman_noaa_gov/amlr-gliders-deployments-dev/SANDIEGO/2025/risso-20250414/data/processed-L1',\n",
       " 'profdir': '/home/sam_woodman_noaa_gov/amlr-gliders-deployments-dev/SANDIEGO/2025/risso-20250414/data/processed-L1/ngdac-delayed',\n",
       " 'plotdir': '/home/sam_woodman_noaa_gov/amlr-gliders-deployments-dev/SANDIEGO/2025/risso-20250414/plots/delayed',\n",
       " 'procl1dir': '/home/sam_woodman_noaa_gov/amlr-gliders-deployments-dev/SANDIEGO/2025/risso-20250414/data/processed-L1',\n",
       " 'procl2dir': '/home/sam_woodman_noaa_gov/amlr-gliders-deployments-dev/SANDIEGO/2025/risso-20250414/data/processed-L2'}"
      ]
     },
     "execution_count": 2,
     "metadata": {},
     "output_type": "execute_result"
    }
   ],
   "source": [
    "paths"
   ]
  },
  {
   "cell_type": "code",
   "execution_count": 18,
   "id": "82350a31",
   "metadata": {},
   "outputs": [
    {
     "name": "stdout",
     "output_type": "stream",
     "text": [
      "True\n"
     ]
    },
    {
     "data": {
      "text/plain": [
       "<dbdreader.decompress.Decompressor at 0x7f94e2750ce0>"
      ]
     },
     "metadata": {},
     "output_type": "display_data"
    },
    {
     "name": "stdout",
     "output_type": "stream",
     "text": [
      "00840000.ecd\n",
      "/home/sam_woodman_noaa_gov/tmp/00840000.ecd\n",
      "00840000.dcd\n",
      "/home/sam_woodman_noaa_gov/tmp/00840000.dcd\n"
     ]
    }
   ],
   "source": [
    "from dbdreader.decompress import Decompressor, FileDecompressor, is_compressed, decompress_file\n",
    "\n",
    "# dcd1 = os.path.join(paths[\"compressdir\"], \"00840000.dcd\")\n",
    "# ecd1 = os.path.join(paths[\"compressdir\"], \"00840000.ecd\")\n",
    "\n",
    "dcd1 = os.path.join(\"/home/sam_woodman_noaa_gov/tmp\", \"00840000.dcd\")\n",
    "ecd1 = os.path.join(\"/home/sam_woodman_noaa_gov/tmp\", \"00840000.ecd\")\n",
    "\n",
    "print(is_compressed(dcd1))\n",
    "\n",
    "data = Decompressor(dcd1)\n",
    "display(data)\n",
    "\n",
    "# FileDecompressor.decompress(dcd1)\n",
    "for i in os.listdir(\"/home/sam_woodman_noaa_gov/tmp\"):\n",
    "    print(i)\n",
    "    if is_compressed(i):\n",
    "        print(os.path.join(\"/home/sam_woodman_noaa_gov/tmp\", i))\n",
    "        decompress_file(os.path.join(\"/home/sam_woodman_noaa_gov/tmp\", i))"
   ]
  },
  {
   "cell_type": "code",
   "execution_count": 19,
   "id": "cb27acfc",
   "metadata": {},
   "outputs": [
    {
     "data": {
      "text/plain": [
       "['00840000.ecd', '00840000.ebd', '00840000.dcd', '00840000.dbd']"
      ]
     },
     "execution_count": 19,
     "metadata": {},
     "output_type": "execute_result"
    }
   ],
   "source": [
    "os.listdir(\"/home/sam_woodman_noaa_gov/tmp\")"
   ]
  }
 ],
 "metadata": {
  "kernelspec": {
   "display_name": "esdglider",
   "language": "python",
   "name": "python3"
  },
  "language_info": {
   "codemirror_mode": {
    "name": "ipython",
    "version": 3
   },
   "file_extension": ".py",
   "mimetype": "text/x-python",
   "name": "python",
   "nbconvert_exporter": "python",
   "pygments_lexer": "ipython3",
   "version": "3.12.9"
  }
 },
 "nbformat": 4,
 "nbformat_minor": 5
}
