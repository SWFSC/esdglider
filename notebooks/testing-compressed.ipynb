{
 "cells": [
  {
   "cell_type": "code",
   "execution_count": null,
   "id": "b595d0cb",
   "metadata": {},
   "outputs": [],
   "source": [
    "from esdglider import glider\n",
    "\n",
    "deployment_info = {\n",
    "    \"deployment\": \"risso_20240414\",\n",
    "    \"project\": \"SANDIEGO\",\n",
    "    \"mode\": \"delayed\",\n",
    "    # \"min_dt\": \"2023-11-28 20:46\",\n",
    "}"
   ]
  }
 ],
 "metadata": {
  "language_info": {
   "name": "python"
  }
 },
 "nbformat": 4,
 "nbformat_minor": 5
}
