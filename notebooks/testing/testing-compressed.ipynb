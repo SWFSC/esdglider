{
 "cells": [
  {
   "cell_type": "code",
   "execution_count": null,
   "id": "b595d0cb",
   "metadata": {},
   "outputs": [],
   "source": [
    "import os\n",
    "import dbdreader\n",
    "from esdglider import gcp, glider\n",
    "\n",
    "deployment_name = \"risso-20250414\"\n",
    "mode = \"delayed\"\n",
    "\n",
    "bucket_name = 'amlr-gliders-deployments-dev'\n",
    "deployments_path = f\"/home/sam_woodman_noaa_gov/{bucket_name}\"\n",
    "config_path = f\"/home/sam_woodman_noaa_gov/glider-lab/deployment-config\"\n",
    "\n",
    "gcp.gcs_mount_bucket(\"amlr-gliders-deployments-dev\", deployments_path, ro=False)\n",
    "deployment_info = {\n",
    "    \"deploymentyaml\": os.path.join(config_path, f\"{deployment_name}.yml\"), \n",
    "    \"mode\": mode, \n",
    "}\n",
    "\n",
    "paths = glider.get_path_deployment(deployment_info, deployments_path)\n",
    "paths[\"deploymentyaml\"] = \"/home/sam_woodman_noaa_gov/esdglider/resources/example-data/config-basic.yml\""
   ]
  },
  {
   "cell_type": "code",
   "execution_count": null,
   "id": "02b3238f",
   "metadata": {},
   "outputs": [],
   "source": [
    "paths"
   ]
  },
  {
   "cell_type": "code",
   "execution_count": null,
   "id": "82350a31",
   "metadata": {},
   "outputs": [],
   "source": [
    "from dbdreader.decompress import Decompressor, FileDecompressor, is_compressed, decompress_file\n",
    "\n",
    "# dcd1 = os.path.join(paths[\"compressdir\"], \"00840000.dcd\")\n",
    "# ecd1 = os.path.join(paths[\"compressdir\"], \"00840000.ecd\")\n",
    "\n",
    "dcd1 = os.path.join(\"/home/sam_woodman_noaa_gov/tmp\", \"00840000.dcd\")\n",
    "ecd1 = os.path.join(\"/home/sam_woodman_noaa_gov/tmp\", \"00840000.ecd\")\n",
    "\n",
    "print(is_compressed(dcd1))\n",
    "\n",
    "data = Decompressor(dcd1)\n",
    "display(data)\n",
    "\n",
    "# FileDecompressor.decompress(dcd1)\n",
    "for i in os.listdir(\"/home/sam_woodman_noaa_gov/tmp\"):\n",
    "    print(i)\n",
    "    if is_compressed(i):\n",
    "        print(os.path.join(\"/home/sam_woodman_noaa_gov/tmp\", i))\n",
    "        decompress_file(os.path.join(\"/home/sam_woodman_noaa_gov/tmp\", i))"
   ]
  },
  {
   "cell_type": "code",
   "execution_count": null,
   "id": "cb27acfc",
   "metadata": {},
   "outputs": [],
   "source": [
    "os.listdir(\"/home/sam_woodman_noaa_gov/tmp\")"
   ]
  }
 ],
 "metadata": {
  "kernelspec": {
   "display_name": "esdglider",
   "language": "python",
   "name": "python3"
  },
  "language_info": {
   "codemirror_mode": {
    "name": "ipython",
    "version": 3
   },
   "file_extension": ".py",
   "mimetype": "text/x-python",
   "name": "python",
   "nbconvert_exporter": "python",
   "pygments_lexer": "ipython3",
   "version": "3.12.9"
  }
 },
 "nbformat": 4,
 "nbformat_minor": 5
}
