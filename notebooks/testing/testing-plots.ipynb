{
 "cells": [
  {
   "cell_type": "code",
   "execution_count": null,
   "metadata": {},
   "outputs": [],
   "source": [
    "import os\n",
    "import numpy as np\n",
    "import pandas as pd\n",
    "import xarray as xr\n",
    "import math\n",
    "import glidertools as gt\n",
    "import cmocean.cm as cmo\n",
    "import matplotlib.pyplot as plt\n",
    "\n",
    "from esdglider import gcp, glider, plots, utils\n",
    "from esdglider.plots import adj_var, sci_vars, adj_var_label, label_size\n",
    "\n",
    "deployment_info = {\n",
    "    \"deployment_name\": \"amlr03-20231128\",\n",
    "    \"mode\": \"delayed\",\n",
    "}\n",
    "# deployment_info = {\n",
    "#     \"deployment_name\": 'amlr08-20220513', \n",
    "#     \"mode\": 'delayed', \n",
    "# }\n",
    "\n",
    "# project = deployment_info[\"project\"]\n",
    "# year = utils.year_path(project, deployment)\n",
    "bucket_name = 'amlr-gliders-deployments-dev'\n",
    "deployments_path = f\"/home/sam_woodman_noaa_gov/{bucket_name}\"\n",
    "config_path = f\"/home/sam_woodman_noaa_gov/glider-lab/deployment-configs\"\n",
    "\n",
    "gcp.gcs_mount_bucket(\n",
    "    \"amlr-gliders-deployments-dev\", deployments_path, \n",
    "    ro=False)\n",
    "\n",
    "deployment_info[\"deploymentyaml\"] = os.path.join(\n",
    "    config_path, f\"{deployment_info[\"deployment_name\"]}.yml\")\n",
    "\n",
    "paths = glider.get_path_glider(deployment_info, deployments_path)"
   ]
  },
  {
   "cell_type": "code",
   "execution_count": null,
   "metadata": {},
   "outputs": [],
   "source": [
    "ds_raw = xr.load_dataset(paths[\"tsrawpath\"])\n",
    "ds_eng = xr.load_dataset(paths[\"tsengpath\"])\n",
    "ds_sci = xr.load_dataset(paths[\"tsscipath\"])\n",
    "ds_g5 = xr.load_dataset(paths[\"gr5path\"])"
   ]
  },
  {
   "cell_type": "markdown",
   "metadata": {},
   "source": [
    "## Misc checks and work"
   ]
  },
  {
   "cell_type": "code",
   "execution_count": null,
   "metadata": {},
   "outputs": [],
   "source": [
    "ds = ds_g5\n",
    "var = \"chlorophyll\"\n",
    "\n",
    "ds = ds.dropna(dim=\"depth\", how=\"all\")\n",
    "\n",
    "fig, ax = plt.subplots(figsize=(11, 8.5))\n",
    "std = np.nanstd(ds[var])\n",
    "mean = np.nanmean(ds[var])\n",
    "\n",
    "p1 = ax.pcolormesh(ds.time, ds.depth, adj_var(ds, var), cmap=sci_vars[var])\n",
    "fig.colorbar(p1).set_label(label=adj_var_label(ds, var), size=label_size)\n",
    "ax.invert_yaxis()\n",
    "\n",
    "ax.set_title(\n",
    "    # f\"Deployment {deployment} for project {}\\n std={std:0.2f} mean={mean:0.2f}\",\n",
    "    f\"Deployment g for project gg\\n std={std:0.2f} mean={mean:0.2f}\",\n",
    "    size=14,\n",
    ")  # use set_title so that title is centered over the plot\n",
    "ax.set_xlabel(\"Time\", size=label_size)\n",
    "ax.set_ylabel(\"Depth [m]\", size=label_size)\n",
    "# t = ax.text(0, -0.18, caption, horizontalalignment='left', verticalalignment='center', transform=ax.transAxes, wrap=True)\n",
    "\n",
    "# for label in ax.get_xticklabels(which='major'):\n",
    "#     label.set(rotation=15, horizontalalignment='center')\n",
    "fig.autofmt_xdate()"
   ]
  },
  {
   "cell_type": "code",
   "execution_count": null,
   "metadata": {},
   "outputs": [],
   "source": [
    "fig, ax = plt.subplots(figsize=(8, 6))\n",
    "ax.scatter(ds_eng.gps_longitude, ds_eng.gps_latitude, s=3)\n",
    "\n",
    "# # Labels and title\n",
    "# ax.set_xlabel(\"Longitude\", size=label_size)\n",
    "# ax.set_ylabel(\"Latitude\", size=label_size)\n",
    "# ax.set_title(title_str, size=title_size)\n",
    "ax.grid(True)\n",
    "plt.show()"
   ]
  },
  {
   "cell_type": "code",
   "execution_count": null,
   "metadata": {},
   "outputs": [],
   "source": [
    "fig, ax = plt.subplots(figsize=(8, 6))\n",
    "ax.scatter(ds_raw.gps_longitude, ds_raw.gps_latitude, s=3)\n",
    "\n",
    "# # Labels and title\n",
    "# ax.set_xlabel(\"Longitude\", size=label_size)\n",
    "# ax.set_ylabel(\"Latitude\", size=label_size)\n",
    "# ax.set_title(title_str, size=title_size)\n",
    "ax.grid(True)\n",
    "plt.show()"
   ]
  },
  {
   "cell_type": "markdown",
   "metadata": {},
   "source": [
    "### Eng tvt\n"
   ]
  },
  {
   "cell_type": "code",
   "execution_count": null,
   "metadata": {},
   "outputs": [],
   "source": [
    "eng_dict = plots.eng_plots_to_make(ds_raw)\n",
    "print(eng_dict.keys())"
   ]
  },
  {
   "cell_type": "code",
   "execution_count": null,
   "metadata": {},
   "outputs": [],
   "source": [
    "plots.eng_tvt_plot(\"diveEnergy\", ds_raw, eng_dict)"
   ]
  },
  {
   "cell_type": "code",
   "execution_count": null,
   "metadata": {},
   "outputs": [],
   "source": [
    "key = \"diveEnergy\"\n",
    "# key = \"leakDetect\"\n",
    "ds = ds_raw\n",
    "\n",
    "deployment = ds.deployment_name\n",
    "\n",
    "fig, ax = plt.subplots(figsize=(8.5, 8.5))\n",
    "\n",
    "\n",
    "for i in range(len(eng_dict[key][\"Y\"])):\n",
    "    if key == \"oilVol\":\n",
    "        plot = ax.scatter(eng_dict[key][\"X\"], eng_dict[key][\"Y\"][i])\n",
    "    else:\n",
    "        plot = ax.scatter(\n",
    "            eng_dict[key][\"X\"],\n",
    "            eng_dict[key][\"Y\"][i],\n",
    "            label=eng_dict[key][\"Y\"][i].name,\n",
    "            c=eng_dict[key][\"C\"][i],\n",
    "        )\n",
    "\n",
    "    if eng_dict[key][\"cb\"] is not None:\n",
    "        cbar = fig.colorbar(plot)\n",
    "        cbar.set_label(eng_dict[key][\"cb\"])\n",
    "\n",
    "ax.set_xlabel(eng_dict[key][\"X\"].name, size=label_size)\n",
    "ax.set_ylabel(eng_dict[key][\"Y\"][0].name, size=label_size)\n",
    "\n",
    "if len(eng_dict[key][\"C\"]) > 1:\n",
    "    # ax.legend(loc=\"upper left\")\n",
    "    ax.legend() #loc=\"center right\")\n",
    "\n",
    "if eng_dict[key][\"X\"].name == \"time\":\n",
    "    fig.autofmt_xdate()\n",
    "\n",
    "plt.show()"
   ]
  },
  {
   "cell_type": "markdown",
   "metadata": {},
   "source": [
    "## Test esdglider.plots functions"
   ]
  },
  {
   "cell_type": "code",
   "execution_count": null,
   "metadata": {},
   "outputs": [],
   "source": [
    "ds = ds_sci\n",
    "\n",
    "# Plot\n",
    "fig, ax = plt.subplots(figsize=(8, 6))\n",
    "# ax.scatter(ds.longitude, ds.latitude, s=3)\n",
    "ax.scatter(\n",
    "    ds.longitude, ds.latitude, s=3, \n",
    "    c=ds[\"profile_index\"]\n",
    ")\n",
    "\n",
    "# Labels and title\n",
    "ax.set_xlabel(\"Longitude\", size=plots.label_size)\n",
    "ax.set_ylabel(\"Latitude\", size=plots.label_size)\n",
    "ax.set_title(\"go go\", size=plots.title_size)\n",
    "ax.grid(True)\n",
    "\n",
    "plt.show()"
   ]
  },
  {
   "cell_type": "code",
   "execution_count": null,
   "metadata": {},
   "outputs": [],
   "source": [
    "# Glidertools plotting\n",
    "plots.sci_timesection_gt_plot(\"density\", ds_sci, show = False)\n",
    "\n",
    "dat = ds_sci.where(ds_sci['profile_index'] % 1 == 0, drop = True)\n",
    "x = dat.profile_index\n",
    "y = dat.depth\n",
    "\n",
    "fig, ax = plt.subplots(figsize=(11, 8.5))\n",
    "ax = gt.plot(x, y, dat.density, cmap=cmo.dense, ax=ax, robust=True)\\\n",
    "\n",
    "gt.plot.bin_size(ds_sci.depth)"
   ]
  },
  {
   "cell_type": "markdown",
   "metadata": {},
   "source": [
    "## Testing for making the surface map plots"
   ]
  },
  {
   "cell_type": "code",
   "execution_count": null,
   "metadata": {},
   "outputs": [],
   "source": [
    "import matplotlib.pyplot as plt\n",
    "import cartopy.crs as ccrs\n",
    "import cartopy.feature as cfeature\n",
    "# from matplotlib_scalebar.scalebar import ScaleBar\n",
    "\n",
    "ds = ds_g5\n",
    "var = \"profile_index\"\n",
    "crs = \"Mercator\"\n",
    "figsize_x = 8.5\n",
    "figsize_y = 11\n",
    "\n",
    "# bar_file = \"/home/sam_woodman_noaa_gov/ETOPO_2022_v1_15s_N45W135_erddap.nc\"\n",
    "# bar = xr.load_dataset(bar_file).rename({\"latitude\": \"lat\", \"longitude\": \"lon\"})\n",
    "# bar = bar.where(bar.z <= 0, drop=True)\n",
    "\n",
    "### Function\n",
    "plots.sci_surface_map(\n",
    "    \"profile_index\", \n",
    "    ds_g5, \n",
    "    crs=ccrs.Mercator(), \n",
    "    show=False, \n",
    "    bar=None, \n",
    ")\n",
    "\n",
    "# # plt.show()\n",
    "\n",
    "# ### Code\n",
    "# deployment = ds.deployment_name\n",
    "# start = ds.deployment_start[0:10]\n",
    "# end = ds.deployment_end[0:10]\n",
    "\n",
    "# map_lon_border = 0.1\n",
    "# map_lat_border = 0.2\n",
    "# glider_lon_min = ds.longitude.min()\n",
    "# glider_lon_max = ds.longitude.max()\n",
    "# glider_lat_min = ds.latitude.min()\n",
    "# glider_lat_max = ds.latitude.max()\n",
    "\n",
    "# # Using Cartopy\n",
    "# if isinstance(crs, str):\n",
    "#     crs = plots.crs_map(crs)\n",
    "# fig, ax = plt.subplots(\n",
    "#     figsize=(figsize_x, figsize_y),\n",
    "#     subplot_kw={\"projection\": crs},\n",
    "# )\n",
    "# # ax = typing.cast(GeoAxes, ax)  # Explicitly cast to GeoAxes, for Pylance\n",
    "\n",
    "# ax.set_xlabel(\"\\n\\n\\nLongitude [Deg]\", size=14)\n",
    "# ax.set_ylabel(\"Latitude [Deg]\\n\\n\\n\", size=14)\n",
    "\n",
    "# # Set extent of the map based on the glider data\n",
    "# ax.set_extent(\n",
    "#     [\n",
    "#         glider_lon_min - map_lon_border,\n",
    "#         glider_lon_max + 3 * map_lon_border,\n",
    "#         glider_lat_min - map_lat_border,\n",
    "#         glider_lat_max + map_lat_border,\n",
    "#     ],\n",
    "#     crs=ccrs.PlateCarree(),\n",
    "# )\n",
    "\n",
    "# # Add coastlines, countries, and continents\n",
    "# # ax.coastlines(resolution=\"110m\", linestyle=\"-\", color=\"black\")\n",
    "# ax.add_feature(cfeature.LAND, edgecolor=\"black\", facecolor=\"#e0b479\")\n",
    "# ax.add_feature(cfeature.OCEAN, edgecolor=\"none\", facecolor=\"#7bcbe3\")\n",
    "\n",
    "# # Add parallels and meridians; no scale bar since no built-in function\n",
    "# gl = ax.gridlines(draw_labels=[\"bottom\", \"left\"])  # type: ignore\n",
    "# gl.xlabel_style = {\"rotation\": 15}\n",
    "\n",
    "# # Special considerations for profile_index\n",
    "# if var == \"profile_index\":\n",
    "#     c = ds[\"profile\"]\n",
    "#     title = f\"{deployment}: {var}\\nfrom {start} to {end}\"\n",
    "#     cbar_label = \"profile_index [1]\"\n",
    "# else:\n",
    "#     c = ds[var].where(ds.depth <= 10, drop=True).mean(dim=\"depth\")\n",
    "#     title = f\"{deployment}: 0 - 10m average {var}\\nfrom {start} to {end}\"\n",
    "#     cbar_label = plots.adj_var_label(ds, var)\n",
    "\n",
    "# p = ax.scatter(\n",
    "#     ds.longitude,\n",
    "#     ds.latitude,\n",
    "#     c=c,\n",
    "#     cmap=plots.sci_vars[var],\n",
    "#     s=10,\n",
    "#     zorder=2.5,\n",
    "#     transform=ccrs.PlateCarree(),\n",
    "# )\n",
    "\n",
    "# # Add colorbar\n",
    "# fig.colorbar(p, ax=ax, shrink=0.6, location=\"right\").set_label(\n",
    "#     label=cbar_label,\n",
    "#     size=plots.label_size,\n",
    "# )\n",
    "# ax.set_title(title, size=plots.title_size)\n",
    "\n",
    "# plt.show()"
   ]
  },
  {
   "cell_type": "code",
   "execution_count": null,
   "metadata": {},
   "outputs": [],
   "source": [
    "ds[var].where(ds.depth <= 10, drop=True).mean(dim=\"depth\")"
   ]
  },
  {
   "cell_type": "code",
   "execution_count": null,
   "metadata": {},
   "outputs": [],
   "source": [
    "ds[\"profile\"]"
   ]
  },
  {
   "cell_type": "code",
   "execution_count": null,
   "metadata": {},
   "outputs": [],
   "source": [
    "ds_sci[\"depth\"]"
   ]
  }
 ],
 "metadata": {
  "kernelspec": {
   "display_name": "esdglider",
   "language": "python",
   "name": "python3"
  },
  "language_info": {
   "codemirror_mode": {
    "name": "ipython",
    "version": 3
   },
   "file_extension": ".py",
   "mimetype": "text/x-python",
   "name": "python",
   "nbconvert_exporter": "python",
   "pygments_lexer": "ipython3",
   "version": "3.12.11"
  }
 },
 "nbformat": 4,
 "nbformat_minor": 2
}
