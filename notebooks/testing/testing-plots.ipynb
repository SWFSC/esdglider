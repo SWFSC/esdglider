{
 "cells": [
  {
   "cell_type": "code",
   "execution_count": null,
   "metadata": {},
   "outputs": [],
   "source": [
    "import os\n",
    "import numpy as np\n",
    "import pandas as pd\n",
    "import xarray as xr\n",
    "import math\n",
    "import glidertools as gt\n",
    "import cmocean.cm as cmo\n",
    "import matplotlib.pyplot as plt\n",
    "\n",
    "from esdglider import gcp, glider, plots, utils\n",
    "\n",
    "deployment_info = {\n",
    "    \"deployment_name\": \"amlr03-20231128\",\n",
    "    \"mode\": \"delayed\",\n",
    "}\n",
    "# deployment_info = {\n",
    "#     \"deployment_name\": 'calanus-20241019', \n",
    "#     \"mode\": 'delayed', \n",
    "# }\n",
    "\n",
    "# project = deployment_info[\"project\"]\n",
    "# year = utils.year_path(project, deployment)\n",
    "bucket_name = 'amlr-gliders-deployments-dev'\n",
    "deployments_path = f\"/home/sam_woodman_noaa_gov/{bucket_name}\"\n",
    "config_path = f\"/home/sam_woodman_noaa_gov/glider-lab/deployment-configs\"\n",
    "\n",
    "gcp.gcs_mount_bucket(\n",
    "    \"amlr-gliders-deployments-dev\", deployments_path, \n",
    "    ro=False)\n",
    "\n",
    "deployment_info[\"deploymentyaml\"] = os.path.join(\n",
    "    config_path, f\"{deployment_info[\"deployment_name\"]}.yml\")\n",
    "\n",
    "paths = glider.get_path_deployment(deployment_info, deployments_path)"
   ]
  },
  {
   "cell_type": "code",
   "execution_count": null,
   "metadata": {},
   "outputs": [],
   "source": [
    "ds_eng = xr.load_dataset(paths[\"tsengpath\"])\n",
    "ds_sci = xr.load_dataset(paths[\"tsscipath\"])\n",
    "ds_g5 = xr.load_dataset(paths[\"gr5path\"])"
   ]
  },
  {
   "cell_type": "markdown",
   "metadata": {},
   "source": [
    "## Misc checks and work"
   ]
  },
  {
   "cell_type": "code",
   "execution_count": null,
   "metadata": {},
   "outputs": [],
   "source": [
    "ds_raw = xr.load_dataset(paths[\"tsrawpath\"])\n",
    "x0 = ds_raw.sel(time=slice(\"2024-11-01 18:00\", \"2024-11-01 22:00\"))\n",
    "\n",
    "# from pyglider import utils as pgutils\n",
    "\n",
    "# x2 = pgutils.get_glider_depth(x)\n",
    "# x2\n",
    "x0"
   ]
  },
  {
   "cell_type": "code",
   "execution_count": null,
   "metadata": {},
   "outputs": [],
   "source": [
    "print(np.max(ds_sci.depth.values))\n",
    "print(np.argmax(ds_sci.depth.values))\n",
    "ds_sci.time[516252]\n",
    "\n",
    "x = ds_sci.sel(time=slice(\"2024-11-01 18:00\", \"2024-11-01 22:00\"))\n",
    "\n",
    "# from pyglider import utils as pgutils\n",
    "\n",
    "# x2 = pgutils.get_glider_depth(x)\n",
    "# x2\n",
    "x"
   ]
  },
  {
   "cell_type": "code",
   "execution_count": null,
   "metadata": {},
   "outputs": [],
   "source": [
    "import matplotlib.pyplot as plt \n",
    "\n",
    "fig, ax = plt.subplots(figsize=(8, 6))\n",
    "ax.scatter(ds_eng.gps_longitude, ds_eng.gps_latitude, s=3)\n",
    "\n",
    "# # Labels and title\n",
    "# ax.set_xlabel(\"Longitude\", size=label_size)\n",
    "# ax.set_ylabel(\"Latitude\", size=label_size)\n",
    "# ax.set_title(title_str, size=title_size)\n",
    "ax.grid(True)\n",
    "plt.show()"
   ]
  },
  {
   "cell_type": "code",
   "execution_count": null,
   "metadata": {},
   "outputs": [],
   "source": [
    "fig, ax = plt.subplots(figsize=(8, 6))\n",
    "ax.scatter(ds_raw.gps_longitude, ds_raw.gps_latitude, s=3)\n",
    "\n",
    "# # Labels and title\n",
    "# ax.set_xlabel(\"Longitude\", size=label_size)\n",
    "# ax.set_ylabel(\"Latitude\", size=label_size)\n",
    "# ax.set_title(title_str, size=title_size)\n",
    "ax.grid(True)\n",
    "plt.show()"
   ]
  },
  {
   "cell_type": "code",
   "execution_count": null,
   "metadata": {},
   "outputs": [],
   "source": [
    "y = ds_eng.sel(time=slice(\"2024-11-01 18:00\", \"2024-11-01 22:00\"))\n",
    "y"
   ]
  },
  {
   "cell_type": "markdown",
   "metadata": {},
   "source": [
    "## Test esdglider.plots functions"
   ]
  },
  {
   "cell_type": "code",
   "execution_count": null,
   "metadata": {},
   "outputs": [],
   "source": [
    "plots.sci_spatialgrid_plot(\"temperature\", ds_g5, show=False)"
   ]
  },
  {
   "cell_type": "code",
   "execution_count": null,
   "metadata": {},
   "outputs": [],
   "source": []
  },
  {
   "cell_type": "code",
   "execution_count": null,
   "metadata": {},
   "outputs": [],
   "source": [
    "# Glidertools plotting\n",
    "plots.sci_gt_plot(ds_sci, \"density\", show = False)\n",
    "\n",
    "dat = ds_sci.where(ds_sci['profile_index'] % 1 == 0, drop = True)\n",
    "x = dat.profile_index\n",
    "y = dat.depth\n",
    "\n",
    "fig, ax = plt.subplots(figsize=(11, 8.5))\n",
    "ax = gt.plot(x, y, dat.density, cmap=cmo.dense, ax=ax, robust=True)\\\n",
    "\n",
    "gt.plot.bin_size(ds_sci.depth)"
   ]
  },
  {
   "cell_type": "markdown",
   "metadata": {},
   "source": [
    "## Testing for making the surface map plots"
   ]
  },
  {
   "cell_type": "code",
   "execution_count": null,
   "metadata": {},
   "outputs": [],
   "source": [
    "import matplotlib.pyplot as plt\n",
    "import cartopy.crs as ccrs\n",
    "import cartopy.feature as cfeature\n",
    "# from matplotlib_scalebar.scalebar import ScaleBar\n",
    "\n",
    "bar_file = \"/home/sam_woodman_noaa_gov/ETOPO_2022_v1_15s_N45W135_erddap.nc\"\n",
    "bar = xr.load_dataset(bar_file).rename({\"latitude\": \"lat\", \"longitude\": \"lon\"})\n",
    "bar = bar.where(bar.z <= 0, drop=True)\n",
    "\n",
    "\n",
    "plots.sci_surface_map(\n",
    "    ds_g5, \n",
    "    \"temperature\", \n",
    "    crs=ccrs.Mercator(), \n",
    "    show=False, \n",
    "    bar=None, \n",
    ")\n",
    "\n",
    "# # plt.show()\n",
    "\n",
    "deployment = ds_g5.deployment_name\n",
    "# start = ds.deployment_start[0:10]\n",
    "# end = ds.deployment_end[0:10]\n",
    "\n",
    "# map_lon_border = 0.1\n",
    "# map_lat_border = 0.2\n",
    "# glider_lon_min = ds.longitude.min()\n",
    "# glider_lon_max = ds.longitude.max()\n",
    "# glider_lat_min = ds.latitude.min()\n",
    "# glider_lat_max = ds.latitude.max()\n",
    "    \n",
    "# # Cartopy\n",
    "# fig, ax = plt.subplots(\n",
    "#     figsize=(8.5, 11), subplot_kw={\"projection\": ccrs.Mercator()}\n",
    "# )\n",
    "# ax.set_xlabel(\"\\n\\n\\nLongitude [Deg]\", size=14)\n",
    "# ax.set_ylabel(\"Latitude [Deg]\\n\\n\\n\", size=14)\n",
    "\n",
    "# # Set extent of the map based on the glider data\n",
    "# ax.set_extent(\n",
    "#     [\n",
    "#         glider_lon_min - map_lon_border,\n",
    "#         glider_lon_max + 3 * map_lon_border,\n",
    "#         glider_lat_min - map_lat_border,\n",
    "#         glider_lat_max + map_lat_border,\n",
    "#     ],\n",
    "#     crs=ccrs.PlateCarree(),\n",
    "# )\n",
    "\n",
    "# # Add coastlines, countries, and continents\n",
    "# # ax.coastlines(resolution=\"10m\", color=\"black\")\n",
    "# # ax.add_feature(cfeature.BORDERS, linestyle=\"-\", edgecolor=\"black\")\n",
    "# ax.add_feature(cfeature.LAND, edgecolor=\"black\", facecolor=\"#e0b479\")\n",
    "# ax.add_feature(cfeature.OCEAN, edgecolor=\"none\", facecolor=\"#7bcbe3\")\n",
    "\n",
    "# gl = ax.gridlines(draw_labels=[\"bottom\", \"left\"])\n",
    "# gl.xlabel_style = {'rotation': 15}\n",
    "\n",
    "# # for label in ax.get_xticklabels():\n",
    "# #     label.set(rotation=-30)\n",
    "\n",
    "# # plt.show()\n",
    "\n",
    "# # ax.add_artist(ScaleBar(1, location=\"lower right\"))\n",
    "\n",
    "\n",
    "# plots.sci_timeseries_loop(ds_sci, None, show=True)\n",
    "plots.eng_timeseries_loop(ds_eng, None, show=True)"
   ]
  }
 ],
 "metadata": {
  "kernelspec": {
   "display_name": "esdglider",
   "language": "python",
   "name": "python3"
  },
  "language_info": {
   "codemirror_mode": {
    "name": "ipython",
    "version": 3
   },
   "file_extension": ".py",
   "mimetype": "text/x-python",
   "name": "python",
   "nbconvert_exporter": "python",
   "pygments_lexer": "ipython3",
   "version": "3.12.11"
  }
 },
 "nbformat": 4,
 "nbformat_minor": 2
}
