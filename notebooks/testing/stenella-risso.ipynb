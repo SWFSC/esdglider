{
 "cells": [
  {
   "cell_type": "markdown",
   "id": "1925528e",
   "metadata": {},
   "source": [
    "This notebook explores the stenella and risso data via ncs and dbdreader"
   ]
  },
  {
   "cell_type": "code",
   "execution_count": null,
   "id": "f9fba37e",
   "metadata": {},
   "outputs": [],
   "source": [
    "import os\n",
    "import numpy as np\n",
    "import pandas as pd\n",
    "import xarray as xr\n",
    "import dbdreader\n",
    "from esdglider import gcp, glider, utils\n",
    "\n",
    "import matplotlib.pyplot as plt\n",
    "import matplotlib.dates as mdates\n",
    "\n",
    "deployment_name = \"stenella-20250414\"\n",
    "# deployment_name = \"risso-20250414\"\n",
    "mode = \"delayed\"\n",
    "\n",
    "\n",
    "# Standard \n",
    "bucket_name = 'amlr-gliders-deployments-dev'\n",
    "deployments_path = f\"/home/sam_woodman_noaa_gov/{bucket_name}\"\n",
    "config_path = f\"/home/sam_woodman_noaa_gov/glider-lab/deployment-configs\"\n",
    "\n",
    "gcp.gcs_mount_bucket(\"amlr-gliders-deployments-dev\", deployments_path, ro=False)\n",
    "deployment_info = {\n",
    "    \"deploymentyaml\": os.path.join(config_path, f\"{deployment_name}.yml\"), \n",
    "    \"mode\": mode, \n",
    "}\n",
    "paths = glider.get_path_glider(deployment_info, deployments_path)\n",
    "paths.keys()"
   ]
  },
  {
   "cell_type": "markdown",
   "id": "1ea70468",
   "metadata": {},
   "source": [
    "## Timesreis exp"
   ]
  },
  {
   "cell_type": "code",
   "execution_count": null,
   "id": "c505c810",
   "metadata": {},
   "outputs": [],
   "source": [
    "ds_raw = xr.load_dataset(paths[\"tsrawpath\"])\n",
    "# df_raw = ds_raw.to_pandas()\n",
    "display(ds_raw)\n",
    "\n",
    "ds_sci = xr.load_dataset(paths[\"tsscipath\"])\n",
    "# df_sci = ds_sci.to_pandas()\n",
    "display(ds_sci)\n",
    "\n",
    "ds_gr5 = xr.load_dataset(paths[\"gr5path\"])\n",
    "# df_sci = ds_sci.to_pandas()\n",
    "display(ds_gr5)"
   ]
  },
  {
   "cell_type": "markdown",
   "id": "2fe76259",
   "metadata": {},
   "source": [
    "### Gridded "
   ]
  },
  {
   "cell_type": "code",
   "execution_count": null,
   "id": "2e104ee8",
   "metadata": {},
   "outputs": [],
   "source": [
    "ds_gr5[\"temperature\"].count(dim=\"depth\").time"
   ]
  },
  {
   "cell_type": "code",
   "execution_count": null,
   "id": "5d2cdb44",
   "metadata": {},
   "outputs": [],
   "source": [
    "# display(ds_gr5[\"conductivity\"].count(dim=\"depth\"))\n",
    "# ds_gr5[\"chlorophyll\"].count(dim=\"depth\")\n",
    "\n",
    "# 2. Define the list of variables you want to plot\n",
    "var_list = [\"temperature\", \"chlorophyll\", \"oxygen_concentration\", \"par\"]\n",
    "# var_list = [\"chlorophyll\"]\n",
    "\n",
    "# 3. Create the plot\n",
    "\n",
    "for var in var_list:\n",
    "    # Calculate the non-NaN counts for the variable along the 'depth' dimension\n",
    "    da = ds_gr5[var].count(dim=\"depth\")\n",
    "    # da[da == 0] = np.nan\n",
    "    \n",
    "    fig = plt.figure(figsize=(10, 6))\n",
    "    ax = plt.gca() # Get current axes\n",
    "    \n",
    "    # # Plot the counts. xarray's plot method automatically uses the time coordinate.\n",
    "    da.where(da > 0).plot(ax=ax, label=f\"{var} count\", marker='o', linestyle='none')\n",
    "    # plt.scatter(da.time, da, s=3)\n",
    "\n",
    "    da.where(da == 0).plot(ax=ax, color='red', marker='o', linestyle='none')\n",
    "\n",
    "\n",
    "    # 4. Customize and show the plot\n",
    "    ax.set_title(\"Non-NaN Data Points Over Time\")\n",
    "    ax.set_xlabel(\"Time\")\n",
    "    ax.set_ylabel(\"Number of Non-NaN Values (along depth)\")\n",
    "    ax.legend()\n",
    "    plt.grid(True, linestyle='--', alpha=0.6)\n",
    "\n",
    "    plt.tight_layout() # Adjusts plot to prevent labels from being cut off\n",
    "\n",
    "    ax.xaxis.set_major_locator(mdates.DayLocator(interval=1))\n",
    "    fig.autofmt_xdate()\n",
    "    plt.show()"
   ]
  },
  {
   "cell_type": "markdown",
   "id": "b7d815d6",
   "metadata": {},
   "source": [
    "### Timeseries"
   ]
  },
  {
   "cell_type": "code",
   "execution_count": null,
   "id": "30059818",
   "metadata": {},
   "outputs": [],
   "source": [
    "# Science dataset\n",
    "\n",
    "depth_var = \"depth_measured\"\n",
    "\n",
    "var_list = [\"temperature\", \"chlorophyll\", \"oxygen_concentration\", \"par\"]\n",
    "# var_list = [\"chlorophyll\"]\n",
    "for var in var_list:\n",
    "    # This is the key step to filter your data before plotting\n",
    "    # ds = ds_sci[var].dropna(dim='time')\n",
    "    ds = ds_sci\n",
    "\n",
    "    # 3. Create the scatter plot\n",
    "    fig, ax = plt.subplots(figsize=(14, 7)) # Create a figure to plot on\n",
    "    # plt.scatter(ds['time'], ds[var], color='blue', label=f'Non-nan Data for {var}')\n",
    "    plt.scatter(ds.time, ds[depth_var], c=ds[var], s=3)\n",
    "    \n",
    "    plt.title(var)\n",
    "    plt.xlabel('time')\n",
    "    plt.ylabel(var)\n",
    "    plt.grid(True, which='both', linestyle='--', linewidth=0.5)\n",
    "    plt.legend()\n",
    "    plt.tight_layout() # Adjusts plot to prevent labels from being cut off\n",
    "\n",
    "    ax.xaxis.set_major_locator(mdates.DayLocator(interval=1))\n",
    "    fig.autofmt_xdate()\n",
    "\n",
    "    plt.show()\n"
   ]
  },
  {
   "cell_type": "code",
   "execution_count": null,
   "id": "7c170cce",
   "metadata": {},
   "outputs": [],
   "source": [
    "np.count_nonzero(np.isnan(ds_sci.depth_measured))"
   ]
  },
  {
   "cell_type": "markdown",
   "id": "c1bb9afa",
   "metadata": {},
   "source": [
    "### plots module functions"
   ]
  },
  {
   "cell_type": "code",
   "execution_count": null,
   "id": "eb8e66d5",
   "metadata": {},
   "outputs": [],
   "source": [
    "import esdglider.plots as plots\n",
    "\n",
    "# plots.sci_timeseries_plot(\"chlorophyll\", ds_sci, depth_var=\"depth_measured\", show=True)\n",
    "# plots.sci_timesection_gt_plot(\"chlorophyll\", ds_sci, depth_var=\"depth_measured\")\n",
    "plots.sci_timesection_plot(\"chlorophyll\", ds_gr5)"
   ]
  },
  {
   "cell_type": "markdown",
   "id": "5d2ad371",
   "metadata": {},
   "source": [
    "## dbdreader exp"
   ]
  },
  {
   "cell_type": "code",
   "execution_count": null,
   "id": "9118cf3f",
   "metadata": {},
   "outputs": [],
   "source": [
    "search = \"*.[D|E|d|e][Bb][Dd]\"\n",
    "dbd = dbdreader.MultiDBD(\n",
    "    pattern=f\"{paths[\"binarydir\"]}/{search}\", \n",
    "    cacheDir=paths[\"cacdir\"], \n",
    "    # skip_initial_line = False, \n",
    ")\n",
    "\n",
    "sensors = [\n",
    "    # \"m_depth\", \n",
    "    # \"m_roll\", \n",
    "    # \"m_pitch\", \n",
    "    # \"sci_water_temp\", \n",
    "    \"sci_water_pressure\", \n",
    "    \"sci_flbbcd_chlor_units\", \n",
    "    \"sci_oxy4_oxygen\", \n",
    "    \"sci_bsipar_par\", \n",
    "]\n",
    "data_list = [(t, v) for (t, v) in dbd.get(*sensors, return_nans=True)]\n",
    "data_time, data = zip(*data_list)\n",
    "\n",
    "display(data_list)\n",
    "display(data_time)\n",
    "display(data)"
   ]
  },
  {
   "cell_type": "markdown",
   "id": "6fd393be",
   "metadata": {},
   "source": [
    "The above block returns two tuples of arrays: an array of the various times, and an array of the various data values. The lengths of the arrays may be different, depending on if you extract engineering or science parameters"
   ]
  },
  {
   "cell_type": "markdown",
   "id": "a0c7e31d",
   "metadata": {},
   "source": [
    "This next example shows going from dbdreader.get to a pandas dataframe"
   ]
  },
  {
   "cell_type": "code",
   "execution_count": null,
   "id": "3f01df06",
   "metadata": {},
   "outputs": [],
   "source": [
    "print(f\"array lengths: {[len(i) for i in data_time]}\")\n",
    "\n",
    "index_dt64 = (data_time[0] * 1e9).astype('datetime64[ns]')\n",
    "df = pd.DataFrame(np.column_stack(data), columns=sensors, index=index_dt64)\n",
    "df"
   ]
  }
 ],
 "metadata": {
  "kernelspec": {
   "display_name": "esdglider",
   "language": "python",
   "name": "python3"
  },
  "language_info": {
   "codemirror_mode": {
    "name": "ipython",
    "version": 3
   },
   "file_extension": ".py",
   "mimetype": "text/x-python",
   "name": "python",
   "nbconvert_exporter": "python",
   "pygments_lexer": "ipython3",
   "version": "3.12.11"
  }
 },
 "nbformat": 4,
 "nbformat_minor": 5
}
