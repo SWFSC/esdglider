{
 "cells": [
  {
   "cell_type": "code",
   "execution_count": null,
   "metadata": {},
   "outputs": [],
   "source": [
    "import os\n",
    "import numpy as np\n",
    "# import pandas as pd\n",
    "import xarray as xr\n",
    "\n",
    "from esdglider import gcp, glider, utils\n",
    "\n",
    "# deployment_name = \"amlr03-20231128\"\n",
    "deployment_name = \"amlr08-20220513\"\n",
    "\n",
    "mode = \"delayed\"\n",
    "\n",
    "\n",
    "# Standard \n",
    "bucket_name = 'amlr-gliders-deployments-dev'\n",
    "deployments_path = f\"/home/sam_woodman_noaa_gov/{bucket_name}\"\n",
    "config_path = f\"/home/sam_woodman_noaa_gov/glider-lab/deployment-configs\"\n",
    "\n",
    "gcp.gcs_mount_bucket(\"amlr-gliders-deployments-dev\", deployments_path, ro=False)\n",
    "deployment_info = {\n",
    "    \"deploymentyaml\": os.path.join(config_path, f\"{deployment_name}.yml\"), \n",
    "    \"mode\": mode, \n",
    "}\n",
    "paths = glider.get_path_deployment(deployment_info, deployments_path)"
   ]
  },
  {
   "cell_type": "code",
   "execution_count": null,
   "metadata": {},
   "outputs": [],
   "source": [
    "ds5 = xr.load_dataset(paths[\"gr5path\"])\n",
    "# df_raw = ds_raw.to_pandas()\n",
    "display(ds5)"
   ]
  },
  {
   "cell_type": "code",
   "execution_count": null,
   "metadata": {},
   "outputs": [],
   "source": [
    "ds1 = xr.load_dataset(paths[\"gr1path\"])\n",
    "# df_raw = ds_raw.to_pandas()\n",
    "display(ds1)"
   ]
  },
  {
   "cell_type": "code",
   "execution_count": null,
   "metadata": {},
   "outputs": [],
   "source": [
    "# pyglider sanity check\n",
    "# ds = ds1\n",
    "\n",
    "# import matplotlib.pyplot as plt\n",
    "# toplot=['potential_temperature', 'salinity',\n",
    "#         'oxygen_concentration', 'chlorophyll', 'cdom']\n",
    "# ntoplot = len(toplot)\n",
    "# pdenlevels=np.arange(10, 30, 0.5)\n",
    "\n",
    "# fig, axs = plt.subplots(\n",
    "#     nrows=ntoplot,\n",
    "#     constrained_layout=True,\n",
    "#     figsize=(7, 3 * ntoplot),\n",
    "#     sharex=True,\n",
    "#     sharey=True,\n",
    "# )\n",
    "\n",
    "# for ax, vname in zip(axs, toplot):\n",
    "#     print(vname)\n",
    "#     ds[vname].plot.pcolormesh(ax=ax)\n",
    "#     (ds['potential_density'] - 1000).plot.contour(ax=ax, levels=pdenlevels)\n",
    "#     # if ylim:\n",
    "#     #     ax.set_ylim(ylim)"
   ]
  },
  {
   "cell_type": "code",
   "execution_count": null,
   "metadata": {},
   "outputs": [],
   "source": [
    "ds1.depth.attrs"
   ]
  },
  {
   "cell_type": "code",
   "execution_count": null,
   "metadata": {},
   "outputs": [],
   "source": [
    "ds_socib = xr.load_dataset(\"/home/sam_woodman_noaa_gov/socib-amlr03-20231128/dep201_amlr01_sgg3_L2_2018-12-08_data_rt.nc\")\n",
    "ds_socib"
   ]
  }
 ],
 "metadata": {
  "kernelspec": {
   "display_name": "esdglider",
   "language": "python",
   "name": "python3"
  },
  "language_info": {
   "codemirror_mode": {
    "name": "ipython",
    "version": 3
   },
   "file_extension": ".py",
   "mimetype": "text/x-python",
   "name": "python",
   "nbconvert_exporter": "python",
   "pygments_lexer": "ipython3",
   "version": "3.12.11"
  }
 },
 "nbformat": 4,
 "nbformat_minor": 2
}
