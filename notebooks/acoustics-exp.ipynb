{
 "cells": [
  {
   "cell_type": "markdown",
   "id": "cf66f7f2",
   "metadata": {},
   "source": [
    "This notebook is for exploring NetCDFs with acoustic data, produced by Tony"
   ]
  },
  {
   "cell_type": "code",
   "execution_count": null,
   "id": "0882c89d",
   "metadata": {},
   "outputs": [],
   "source": [
    "import xarray as xr\n",
    "\n"
   ]
  },
  {
   "cell_type": "code",
   "execution_count": null,
   "id": "dbdd9832",
   "metadata": {},
   "outputs": [],
   "source": [
    "ds = xr.open_dataset(\"/home/sam_woodman_noaa_gov/amlr03-20231128_grid-delayed-5m_acoustics.nc\")\n",
    "ds"
   ]
  },
  {
   "cell_type": "code",
   "execution_count": null,
   "id": "60cb1b58",
   "metadata": {},
   "outputs": [],
   "source": [
    "ds.profile_time_start.values"
   ]
  },
  {
   "cell_type": "code",
   "execution_count": null,
   "id": "e639268d",
   "metadata": {},
   "outputs": [],
   "source": [
    "ds.abc_70kHz"
   ]
  },
  {
   "cell_type": "code",
   "execution_count": null,
   "id": "6ec6ec00",
   "metadata": {},
   "outputs": [],
   "source": [
    "ds.abc_70kHz.to_pandas()"
   ]
  }
 ],
 "metadata": {
  "kernelspec": {
   "display_name": "esdglider",
   "language": "python",
   "name": "python3"
  },
  "language_info": {
   "codemirror_mode": {
    "name": "ipython",
    "version": 3
   },
   "file_extension": ".py",
   "mimetype": "text/x-python",
   "name": "python",
   "nbconvert_exporter": "python",
   "pygments_lexer": "ipython3",
   "version": "3.12.11"
  }
 },
 "nbformat": 4,
 "nbformat_minor": 5
}
