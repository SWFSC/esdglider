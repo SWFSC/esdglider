{
 "cells": [
  {
   "cell_type": "markdown",
   "id": "1925528e",
   "metadata": {},
   "source": [
    "This notebook is intended to show ways of using dbdreader to explore data directly\n",
    "\n",
    "Also see https://dbdreader.readthedocs.io/en/latest/multiple_files.html"
   ]
  },
  {
   "cell_type": "code",
   "execution_count": null,
   "id": "f9fba37e",
   "metadata": {},
   "outputs": [],
   "source": [
    "import os\n",
    "import numpy as np\n",
    "import pandas as pd\n",
    "import dbdreader\n",
    "from esdglider import gcp, glider, utils\n",
    "\n",
    "# deployment_name = \"stenella-20250414\"\n",
    "deployment_name = \"amlr03-20231128\"\n",
    "mode = \"delayed\"\n",
    "\n",
    "\n",
    "# Standard \n",
    "bucket_name = 'amlr-gliders-deployments-dev'\n",
    "deployments_path = f\"/home/sam_woodman_noaa_gov/{bucket_name}\"\n",
    "config_path = f\"/home/sam_woodman_noaa_gov/glider-lab/deployment-configs\"\n",
    "\n",
    "gcp.gcs_mount_bucket(\"amlr-gliders-deployments-dev\", deployments_path, ro=False)\n",
    "deployment_info = {\n",
    "    \"deploymentyaml\": os.path.join(config_path, f\"{deployment_name}.yml\"), \n",
    "    \"mode\": mode, \n",
    "}\n",
    "paths = glider.get_path_deployment(deployment_info, deployments_path)\n",
    "\n",
    "binarydir = paths[\"binarydir\"]\n",
    "binarydir"
   ]
  },
  {
   "cell_type": "markdown",
   "id": "1ea70468",
   "metadata": {},
   "source": [
    "## Load all of the files"
   ]
  },
  {
   "cell_type": "code",
   "execution_count": null,
   "id": "c505c810",
   "metadata": {},
   "outputs": [],
   "source": [
    "search = \"*.[D|E|d|e][Bb][Dd]\"\n",
    "dbd = dbdreader.MultiDBD(\n",
    "    pattern=f\"{binarydir}/{search}\", \n",
    "    cacheDir=paths[\"cacdir\"], \n",
    "    # skip_initial_line = False, \n",
    ")"
   ]
  },
  {
   "cell_type": "markdown",
   "id": "bfda06c9",
   "metadata": {},
   "source": [
    "## Examples\n",
    "\n",
    "### dbd.get\n",
    "\n",
    "A basic example, reading in variables using dbd.get"
   ]
  },
  {
   "cell_type": "code",
   "execution_count": null,
   "id": "9118cf3f",
   "metadata": {},
   "outputs": [],
   "source": [
    "# Example 1\n",
    "sensors = [\n",
    "    \"m_depth\", \n",
    "    \"m_roll\", \n",
    "    # \"m_pitch\", \n",
    "    # \"sci_water_temp\", \n",
    "    \"sci_water_pressure\", \n",
    "    \"sci_flbbcd_chlor_units\", \n",
    "    # \"x_dbd_mission_number\", \n",
    "    # \"x_dbd_segment_number\", \n",
    "]\n",
    "data_list = [(t, v) for (t, v) in dbd.get(*sensors, return_nans=True)]\n",
    "data_time, data = zip(*data_list)\n",
    "\n",
    "display(data_list)\n",
    "display(data_time)\n",
    "display(data)"
   ]
  },
  {
   "cell_type": "markdown",
   "id": "6fd393be",
   "metadata": {},
   "source": [
    "The above block returns two tuples of arrays: an array of the various times, and an array of the various data values. The lengths of the arrays may be different, depending on if you extract engineering or science parameters"
   ]
  },
  {
   "cell_type": "markdown",
   "id": "a0c7e31d",
   "metadata": {},
   "source": [
    "This next example shows going from dbdreader.get to a pandas dataframe"
   ]
  },
  {
   "cell_type": "code",
   "execution_count": null,
   "id": "3f01df06",
   "metadata": {},
   "outputs": [],
   "source": [
    "# Example 2\n",
    "sensors = [\n",
    "    \"m_depth\", \n",
    "    \"u_flbbcd_chlor_cwo\", \n",
    "    \"u_flbbcd_bb_cwo\", \n",
    "    \"u_flbbcd_cdom_cwo\", \n",
    "    \"u_flbbcd_chlor_sf\", \n",
    "    \"u_flbbcd_bb_sf\", \n",
    "    \"u_flbbcd_cdom_sf\"\n",
    "]\n",
    "data_list = [(t, v) for (t, v) in dbd.get(*sensors, return_nans=True)]\n",
    "data_time, data = zip(*data_list)\n",
    "\n",
    "print(f\"array lengths: {[len(i) for i in data_time]}\")\n",
    "\n",
    "index_dt64 = (data_time[0] * 1e9).astype('datetime64[ns]')\n",
    "df = pd.DataFrame(np.column_stack(data), columns=sensors, index=index_dt64)\n",
    "df"
   ]
  },
  {
   "cell_type": "markdown",
   "id": "04e394a9",
   "metadata": {},
   "source": [
    "And a third example, showing how to use include_source=True to get the filename for each datapoint"
   ]
  },
  {
   "cell_type": "code",
   "execution_count": null,
   "id": "583ebfdf",
   "metadata": {},
   "outputs": [],
   "source": [
    "# Example 3a\n",
    "sensors = [\n",
    "    \"m_depth\", \n",
    "    # \"m_pitch\", \n",
    "    \"sci_water_temp\", \n",
    "]\n",
    "source_data = dbd.get(*sensors, return_nans=True, include_source=True)\n",
    "data_list, s = zip(*source_data)\n",
    "data_time, data = zip(*data_list)\n",
    "\n",
    "fn = os.path.basename(s[1][11000].filename)\n",
    "fn"
   ]
  },
  {
   "cell_type": "code",
   "execution_count": null,
   "id": "9d58ea03",
   "metadata": {},
   "outputs": [],
   "source": [
    "# Example 3b\n",
    "sensors = [\n",
    "    \"m_depth\", \n",
    "    \"m_roll\", \n",
    "    \"sci_water_pressure\", \n",
    "    \"sci_flbbcd_chlor_units\", \n",
    "]\n",
    "source_data_f = dbd.get(*sensors, return_nans=True, include_source=False)\n",
    "source_data_t = dbd.get(*sensors, return_nans=True, include_source=True)\n",
    "\n",
    "data_time1, data1 = zip(*source_data_f)\n",
    "data_list = [(t, v) for (t, v) in source_data_f]\n",
    "data_time2, data2 = zip(*data_list)\n",
    "\n",
    "print(data_time1 == data_time2)\n",
    "print(data1 == data2)\n",
    "print(source_data_f[0][0] == source_data_t[0][0][0])"
   ]
  },
  {
   "cell_type": "markdown",
   "id": "4b7c2987",
   "metadata": {},
   "source": [
    "### dbd.get_sync\n",
    "\n",
    "Read in variables using dbd.get_sync"
   ]
  },
  {
   "cell_type": "code",
   "execution_count": null,
   "id": "9cf3b761",
   "metadata": {},
   "outputs": [],
   "source": [
    "# interpolate roll speed on depth time\n",
    "tm,depth,roll,speed=dbd.get_sync(\"m_depth\",\"m_roll\",\"m_speed\")"
   ]
  },
  {
   "cell_type": "markdown",
   "id": "33af5711",
   "metadata": {},
   "source": [
    "### Other\n",
    "\n",
    "Explore other dbd functions. "
   ]
  },
  {
   "cell_type": "code",
   "execution_count": null,
   "id": "a49e9480",
   "metadata": {},
   "outputs": [],
   "source": [
    "dbd.get_CTD_sync()"
   ]
  },
  {
   "cell_type": "code",
   "execution_count": null,
   "id": "22927055",
   "metadata": {},
   "outputs": [],
   "source": [
    "dbd.get_global_time_range()"
   ]
  },
  {
   "cell_type": "code",
   "execution_count": null,
   "id": "a5804dc8",
   "metadata": {},
   "outputs": [],
   "source": [
    "for i,p in enumerate(dbd.parameterNames['eng']):\n",
    "    print(\"%2d: %s\"%(i,p))"
   ]
  },
  {
   "cell_type": "markdown",
   "id": "22c972c8",
   "metadata": {},
   "source": [
    "## flbbcd correction factors\n",
    "\n",
    "A new example, trying out the flbbcd correction factors. \n",
    "\n",
    "For background, emeail to Teledyne: \"I realized that I forgot to put in the updated calibration coefficients for the FLBBCD (ecopuck) in our autoexec.mi before a glider deployment. How would I go about applying the correct calibration coefficients after we had completed a deployment?\"\n",
    "\n",
    "This chunk is exploring applying these correction factors 'by hand', ie after the deployment if the incorrect values were in the autoexec"
   ]
  },
  {
   "cell_type": "code",
   "execution_count": null,
   "id": "41970f41",
   "metadata": {},
   "outputs": [],
   "source": [
    "sensors = [\n",
    "    \"sci_flbbcd_chlor_units\", \n",
    "    \"sci_flbbcd_chlor_sig\", \n",
    "    \"u_flbbcd_chlor_cwo\", \n",
    "    \"u_flbbcd_chlor_sf\", \n",
    "]\n",
    "source_data = dbd.get(*sensors, return_nans=True)\n",
    "data_list, data = zip(*source_data)\n",
    "# data_list = [(t, v) for (t, v) in dbd.get(*sensors, return_nans=True)]\n",
    "# data_time, data = zip(*data_list)\n",
    "display(data)"
   ]
  },
  {
   "cell_type": "code",
   "execution_count": null,
   "id": "e424c430",
   "metadata": {},
   "outputs": [],
   "source": [
    "display(np.unique(data[2]))\n",
    "display(np.unique(data[3]))"
   ]
  },
  {
   "cell_type": "code",
   "execution_count": null,
   "id": "9fc2d396",
   "metadata": {},
   "outputs": [],
   "source": [
    "chlor_sf = 0.0071\n",
    "chlor_cwo = 55\n",
    "\n",
    "chlor_units = chlor_sf * (data[1]-chlor_cwo)\n",
    "pd.DataFrame(chlor_units-data[0]).round(3).value_counts()"
   ]
  }
 ],
 "metadata": {
  "kernelspec": {
   "display_name": "esdglider",
   "language": "python",
   "name": "python3"
  },
  "language_info": {
   "codemirror_mode": {
    "name": "ipython",
    "version": 3
   },
   "file_extension": ".py",
   "mimetype": "text/x-python",
   "name": "python",
   "nbconvert_exporter": "python",
   "pygments_lexer": "ipython3",
   "version": "3.12.11"
  }
 },
 "nbformat": 4,
 "nbformat_minor": 5
}
