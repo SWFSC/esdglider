{
 "cells": [
  {
   "cell_type": "markdown",
   "id": "1925528e",
   "metadata": {},
   "source": [
    "This notebook is intended to show ways of using dbdreader to explore data directly\n",
    "\n",
    "Also see https://dbdreader.readthedocs.io/en/latest/multiple_files.html"
   ]
  },
  {
   "cell_type": "code",
   "execution_count": null,
   "id": "f9fba37e",
   "metadata": {},
   "outputs": [],
   "source": [
    "import os\n",
    "import numpy as np\n",
    "import pandas as pd\n",
    "import dbdreader\n",
    "from esdglider import gcp, glider, utils\n",
    "\n",
    "# deployment_name = \"stenella-20250414\"\n",
    "deployment_name = \"amlr08-20241120\"\n",
    "mode = \"delayed\"\n",
    "\n",
    "\n",
    "# Standard \n",
    "bucket_name = 'amlr-gliders-deployments-dev'\n",
    "deployments_path = f\"/home/sam_woodman_noaa_gov/{bucket_name}\"\n",
    "config_path = f\"/home/sam_woodman_noaa_gov/glider-lab/deployment-configs\"\n",
    "\n",
    "gcp.gcs_mount_bucket(\"amlr-gliders-deployments-dev\", deployments_path, ro=False)\n",
    "deployment_info = {\n",
    "    \"deploymentyaml\": os.path.join(config_path, f\"{deployment_name}.yml\"), \n",
    "    \"mode\": mode, \n",
    "}\n",
    "paths = glider.get_path_deployment(deployment_info, deployments_path)\n",
    "\n",
    "binarydir = paths[\"binarydir\"]\n",
    "binarydir"
   ]
  },
  {
   "cell_type": "markdown",
   "id": "1ea70468",
   "metadata": {},
   "source": [
    "Load all of the files"
   ]
  },
  {
   "cell_type": "code",
   "execution_count": null,
   "id": "c505c810",
   "metadata": {},
   "outputs": [],
   "source": [
    "search = \"*.[D|E|d|e][Bb][Dd]\"\n",
    "dbd = dbdreader.MultiDBD(\n",
    "    pattern=f\"{binarydir}/{search}\", \n",
    "    cacheDir=paths[\"cacdir\"], \n",
    "    skip_initial_line = False, \n",
    ")"
   ]
  },
  {
   "cell_type": "markdown",
   "id": "bfda06c9",
   "metadata": {},
   "source": [
    "Read in variables using dbd.get"
   ]
  },
  {
   "cell_type": "code",
   "execution_count": null,
   "id": "9118cf3f",
   "metadata": {},
   "outputs": [],
   "source": [
    "sensors = [\n",
    "    \"m_depth\", \n",
    "    \"m_roll\", \n",
    "    \"m_pitch\", \n",
    "    \"x_dbd_mission_number\", \n",
    "    \"x_dbd_segment_number\", \n",
    "]\n",
    "data_list = [(t, v) for (t, v) in dbd.get(*sensors, return_nans=True)]\n",
    "data_time, data = zip(*data_list)\n",
    "data"
   ]
  },
  {
   "cell_type": "code",
   "execution_count": null,
   "id": "e6670202",
   "metadata": {},
   "outputs": [],
   "source": [
    "pd.DataFrame()"
   ]
  },
  {
   "cell_type": "code",
   "execution_count": null,
   "id": "274aca0c",
   "metadata": {},
   "outputs": [],
   "source": []
  },
  {
   "cell_type": "code",
   "execution_count": null,
   "id": "2d96fc46",
   "metadata": {},
   "outputs": [],
   "source": [
    "# x = data[3]\n",
    "# x[~np.isnan(x)]b"
   ]
  },
  {
   "cell_type": "code",
   "execution_count": null,
   "id": "3b9ceb7a",
   "metadata": {},
   "outputs": [],
   "source": [
    "# dbd.get(\"x_mission_num\")\n",
    "dbd.get(\"x_dbd_segment_number\")"
   ]
  },
  {
   "cell_type": "markdown",
   "id": "4b7c2987",
   "metadata": {},
   "source": [
    "Read in variables using dbd.get_sync"
   ]
  },
  {
   "cell_type": "code",
   "execution_count": null,
   "id": "9cf3b761",
   "metadata": {},
   "outputs": [],
   "source": [
    "# interpolate roll speed on depth time\n",
    "tm,depth,roll,speed=dbd.get_sync(\"m_depth\",\"m_roll\",\"m_speed\")"
   ]
  },
  {
   "cell_type": "markdown",
   "id": "33af5711",
   "metadata": {},
   "source": [
    "Explore other things"
   ]
  },
  {
   "cell_type": "code",
   "execution_count": null,
   "id": "a49e9480",
   "metadata": {},
   "outputs": [],
   "source": [
    "dbd.get_CTD_sync()"
   ]
  },
  {
   "cell_type": "code",
   "execution_count": null,
   "id": "22927055",
   "metadata": {},
   "outputs": [],
   "source": [
    "dbd.get_global_time_range()"
   ]
  },
  {
   "cell_type": "code",
   "execution_count": null,
   "id": "a5804dc8",
   "metadata": {},
   "outputs": [],
   "source": [
    "for i,p in enumerate(dbd.parameterNames['eng']):\n",
    "    print(\"%2d: %s\"%(i,p))"
   ]
  }
 ],
 "metadata": {
  "kernelspec": {
   "display_name": "esdglider",
   "language": "python",
   "name": "python3"
  },
  "language_info": {
   "codemirror_mode": {
    "name": "ipython",
    "version": 3
   },
   "file_extension": ".py",
   "mimetype": "text/x-python",
   "name": "python",
   "nbconvert_exporter": "python",
   "pygments_lexer": "ipython3",
   "version": "3.12.11"
  }
 },
 "nbformat": 4,
 "nbformat_minor": 5
}
