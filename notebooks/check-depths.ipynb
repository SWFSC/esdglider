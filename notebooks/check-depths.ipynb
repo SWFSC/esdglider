{
 "cells": [
  {
   "cell_type": "code",
   "execution_count": null,
   "metadata": {},
   "outputs": [],
   "source": [
    "import os\n",
    "import numpy as np\n",
    "# import pandas as pd\n",
    "import xarray as xr\n",
    "\n",
    "from esdglider import gcp, glider, utils\n",
    "\n",
    "deployment_name = \"stenella-20250414\"\n",
    "mode = \"delayed\"\n",
    "\n",
    "\n",
    "# Standard \n",
    "bucket_name = 'amlr-gliders-deployments-dev'\n",
    "deployments_path = f\"/home/sam_woodman_noaa_gov/{bucket_name}\"\n",
    "config_path = f\"/home/sam_woodman_noaa_gov/glider-lab/deployment-configs\"\n",
    "\n",
    "gcp.gcs_mount_bucket(\"amlr-gliders-deployments-dev\", deployments_path, ro=False)\n",
    "deployment_info = {\n",
    "    \"deploymentyaml\": os.path.join(config_path, f\"{deployment_name}.yml\"), \n",
    "    \"mode\": mode, \n",
    "}\n",
    "paths = glider.get_path_glider(deployment_info, deployments_path)\n",
    "\n",
    "dir_ts = paths[\"tsdir\"]\n",
    "path_raw = os.path.join(dir_ts, f\"{deployment_name}-{mode}-raw.nc\")\n",
    "path_sci = os.path.join(dir_ts, f\"{deployment_name}-{mode}-sci.nc\")\n",
    "path_eng = os.path.join(dir_ts, f\"{deployment_name}-{mode}-eng.nc\")"
   ]
  },
  {
   "cell_type": "markdown",
   "metadata": {},
   "source": [
    "## Raw dataset"
   ]
  },
  {
   "cell_type": "code",
   "execution_count": null,
   "metadata": {},
   "outputs": [],
   "source": [
    "ds_raw = xr.load_dataset(path_raw)\n",
    "df_raw = ds_raw.to_pandas()\n",
    "ds_raw"
   ]
  },
  {
   "cell_type": "code",
   "execution_count": null,
   "metadata": {},
   "outputs": [],
   "source": [
    "ds_depth = utils.check_depth(ds_raw[\"depth_measured\"], ds_raw[\"depth_ctd\"])\n",
    "display(ds_depth)\n",
    "\n",
    "df_depth = ds_depth.to_pandas()\n",
    "df_depth = df_depth.sort_values(by=\"depth_diff_abs\", ascending=False) # type: ignore\n",
    "df_depth"
   ]
  },
  {
   "cell_type": "code",
   "execution_count": null,
   "metadata": {},
   "outputs": [],
   "source": [
    "# # Get only depth difference > d\n",
    "# d = 12\n",
    "# df_curr = df_depth[df_depth.depth_diff > d]\n",
    "# df_curr.sort_values(by=\"time\", ascending=True)\n",
    "\n",
    "# times_wonky = df_curr.index.values\n",
    "# print(\"['\" + \"',\\n '\".join(times_wonky.astype(str)) + \"']\")\n",
    "\n",
    "# display(ds_raw.profile_index.sel(time=times_wonky))\n",
    "\n",
    "# df_curr"
   ]
  },
  {
   "cell_type": "code",
   "execution_count": null,
   "metadata": {},
   "outputs": [],
   "source": [
    "# Explore specific chunks of dataset\n",
    "ds = utils.data_var_reorder(ds_raw, [\"depth_measured\", \"depth_ctd\"])\n",
    "dt = \"2025-04-28\"\n",
    "ds_sub = ds.sel(time=slice(f\"{dt} 05:35\", dt))\n",
    "ds_sub"
   ]
  },
  {
   "cell_type": "markdown",
   "metadata": {},
   "source": [
    "## Science/engineering"
   ]
  },
  {
   "cell_type": "code",
   "execution_count": null,
   "metadata": {},
   "outputs": [],
   "source": [
    "ds_eng = xr.load_dataset(path_eng)\n",
    "df_eng = ds_eng.to_pandas()\n",
    "display(ds_eng)\n",
    "\n",
    "ds_sci = xr.load_dataset(path_sci)\n",
    "df_sci = ds_sci.to_pandas()\n",
    "display(ds_sci)"
   ]
  },
  {
   "cell_type": "markdown",
   "metadata": {},
   "source": [
    "Science/engineering datasets have been filtered for bogus values\n",
    "Interpolate the engineering dataset onto the science timestamps, and do the same depth check"
   ]
  },
  {
   "cell_type": "code",
   "execution_count": null,
   "metadata": {},
   "outputs": [],
   "source": [
    "ds_depth2 = utils.check_depth(ds_eng[\"depth\"], ds_sci[\"depth\"])\n",
    "# display(ds_depth2)\n",
    "\n",
    "df_depth2 = ds_depth2.to_pandas()\n",
    "df_depth2 = df_depth2.sort_values(by=\"depth_diff_abs\", ascending=False) # type: ignore\n",
    "df_depth2"
   ]
  },
  {
   "cell_type": "code",
   "execution_count": null,
   "metadata": {},
   "outputs": [],
   "source": [
    "# Get the profile indices of the big depth differences\n",
    "ds_g = ds_depth2.where(ds_depth2.depth_diff_abs > 13, drop=True)\n",
    "d = ds_sci.profile_index.where(ds_sci.time == ds_g.time, drop=True).values\n",
    "print(all((d % 1) == 0.5)) # All diffs are between profiles\n",
    "print(len(d))\n",
    "d"
   ]
  },
  {
   "cell_type": "markdown",
   "metadata": {},
   "source": [
    "## SOCIB"
   ]
  },
  {
   "cell_type": "code",
   "execution_count": null,
   "metadata": {},
   "outputs": [],
   "source": [
    "# sl1 = xr.load_dataset(\"/home/sam_woodman_noaa_gov/depfrbyrd_amlr03_sgg3_L1_2023-11-27_data_rt.nc\")\n",
    "# display(sl1)"
   ]
  },
  {
   "cell_type": "code",
   "execution_count": null,
   "metadata": {},
   "outputs": [],
   "source": [
    "# sl1[\"depth_diff\"] = sl1.depth - sl1.depth_ctd\n",
    "# display(sl1.depth_diff.to_pandas().describe())"
   ]
  }
 ],
 "metadata": {
  "kernelspec": {
   "display_name": "esdglider",
   "language": "python",
   "name": "python3"
  },
  "language_info": {
   "codemirror_mode": {
    "name": "ipython",
    "version": 3
   },
   "file_extension": ".py",
   "mimetype": "text/x-python",
   "name": "python",
   "nbconvert_exporter": "python",
   "pygments_lexer": "ipython3",
   "version": "3.12.11"
  }
 },
 "nbformat": 4,
 "nbformat_minor": 2
}
