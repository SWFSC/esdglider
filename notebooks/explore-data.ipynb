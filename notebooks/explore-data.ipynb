{
 "cells": [
  {
   "cell_type": "markdown",
   "id": "fae6ecb3",
   "metadata": {},
   "source": [
    "This notebook is intended for exploring processed data"
   ]
  },
  {
   "cell_type": "code",
   "execution_count": null,
   "id": "d52a0efa",
   "metadata": {},
   "outputs": [],
   "source": [
    "import os\n",
    "import numpy as np\n",
    "import pandas as pd\n",
    "import xarray as xr\n",
    "import math\n",
    "\n",
    "from esdglider import gcp, glider, utils, plots\n",
    "\n",
    "# deployment_info = {\n",
    "#     \"deployment_name\": \"calanus-20241019\",\n",
    "#     \"mode\": \"delayed\",\n",
    "# }\n",
    "# deployment_info = {\n",
    "#     \"deployment_name\": \"amlr03-20231128\",\n",
    "#     \"mode\": \"delayed\",\n",
    "# }\n",
    "deployment_info = {\n",
    "    \"deployment_name\": \"amlr08-20220513\",\n",
    "    \"mode\": \"delayed\",\n",
    "}\n",
    "\n",
    "# Standard \n",
    "deployment_name = deployment_info[\"deployment_name\"]\n",
    "mode = deployment_info[\"mode\"]\n",
    "bucket_name = 'amlr-gliders-deployments-dev'\n",
    "deployments_path = f\"/home/sam_woodman_noaa_gov/{bucket_name}\"\n",
    "config_path = f\"/home/sam_woodman_noaa_gov/glider-lab/deployment-configs\"\n",
    "\n",
    "gcp.gcs_mount_bucket(\"amlr-gliders-deployments-dev\", deployments_path, ro=False)\n",
    "deployment_info[\"deploymentyaml\"] = os.path.join(\n",
    "    config_path, \n",
    "    f\"{deployment_info[\"deployment_name\"]}.yml\", \n",
    ")\n",
    "\n",
    "paths = glider.get_path_deployment(deployment_info, deployments_path)"
   ]
  },
  {
   "cell_type": "markdown",
   "id": "eb16aafe",
   "metadata": {},
   "source": [
    "# Timeseries file exploration"
   ]
  },
  {
   "cell_type": "code",
   "execution_count": null,
   "id": "4956f102",
   "metadata": {},
   "outputs": [],
   "source": [
    "ds_raw = xr.load_dataset(paths[\"tsrawpath\"])\n",
    "df_raw = ds_raw.to_pandas()\n",
    "display(ds_raw)"
   ]
  },
  {
   "cell_type": "code",
   "execution_count": null,
   "id": "3eb0920e",
   "metadata": {},
   "outputs": [],
   "source": [
    "ds_eng = xr.load_dataset(paths[\"tsengpath\"])\n",
    "df_eng = ds_eng.to_pandas()\n",
    "display(ds_eng)\n",
    "\n",
    "ds_sci = xr.load_dataset(paths[\"tsscipath\"])\n",
    "df_sci = ds_sci.to_pandas()\n",
    "display(ds_sci)"
   ]
  },
  {
   "cell_type": "markdown",
   "id": "b47374ac",
   "metadata": {},
   "source": [
    "Test interp find_gaps"
   ]
  },
  {
   "cell_type": "code",
   "execution_count": null,
   "id": "83e7168b",
   "metadata": {},
   "outputs": [],
   "source": [
    "print(np.count_nonzero(np.isnan(ds_sci.oxygen_concentration)))\n",
    "print(np.count_nonzero(np.isnan(ds_sci.conductivity)))\n",
    "print(np.count_nonzero(np.isnan(ds_sci.chlorophyll)))"
   ]
  },
  {
   "cell_type": "markdown",
   "id": "d120d815",
   "metadata": {},
   "source": [
    "testing interp"
   ]
  },
  {
   "cell_type": "code",
   "execution_count": null,
   "id": "98969888",
   "metadata": {},
   "outputs": [],
   "source": [
    "x = ds_sci.chlorophyll\n",
    "display(x)\n",
    "y = ds_raw.chlorophyll\n",
    "display(y)\n",
    "y_nona = y.dropna(\"time\")\n",
    "display(y_nona)"
   ]
  },
  {
   "cell_type": "code",
   "execution_count": null,
   "id": "f93d3e7c",
   "metadata": {},
   "outputs": [],
   "source": [
    "y_interp = np.interp(\n",
    "    x.time.values.astype(np.int64), \n",
    "    y_nona.time.values.astype(np.int64), \n",
    "    y_nona.values, \n",
    "    left=np.nan, \n",
    "    right=np.nan, \n",
    ")\n",
    "y_interp"
   ]
  },
  {
   "cell_type": "code",
   "execution_count": null,
   "id": "56f54804",
   "metadata": {},
   "outputs": [],
   "source": [
    "pd.DataFrame(y_interp - x.values).describe()"
   ]
  },
  {
   "cell_type": "code",
   "execution_count": null,
   "id": "7461cb0c",
   "metadata": {},
   "outputs": [],
   "source": [
    "x.time.values[np.argwhere(np.isnan(x.values))]"
   ]
  },
  {
   "cell_type": "code",
   "execution_count": null,
   "id": "a880c859",
   "metadata": {},
   "outputs": [],
   "source": [
    "import pyglider.utils as pgutils\n",
    "np.count_nonzero(pgutils.find_gaps(\n",
    "    y_nona.time.values.astype(np.int64), \n",
    "    x.time.values.astype(np.int64), \n",
    "    60\n",
    "))"
   ]
  },
  {
   "cell_type": "markdown",
   "id": "5828072f",
   "metadata": {},
   "source": [
    "old stuff"
   ]
  },
  {
   "cell_type": "code",
   "execution_count": null,
   "id": "f6f3f886",
   "metadata": {},
   "outputs": [],
   "source": [
    "oxy.time.max()"
   ]
  },
  {
   "cell_type": "code",
   "execution_count": null,
   "id": "97feed4d",
   "metadata": {},
   "outputs": [],
   "source": [
    "oxysat = ds_raw[\"oxygen_saturation\"].dropna(\"time\").to_pandas()\n",
    "oxysat"
   ]
  },
  {
   "cell_type": "code",
   "execution_count": null,
   "id": "ec71c2e3",
   "metadata": {},
   "outputs": [],
   "source": [
    "oxy.oxygen_saturation.to_pandas().describe()"
   ]
  },
  {
   "cell_type": "code",
   "execution_count": null,
   "id": "ae67d3ac",
   "metadata": {},
   "outputs": [],
   "source": [
    "import glidertools as gt \n",
    "# gt.plot.scatter(ds_sci.time, ds_sci.depth, ds_sci.oxygen_concentration)\n",
    "ax1 = plots.sci_gt_plot(ds_sci, \"oxygen_saturation\", show = True)\n",
    "ax2 = plots.sci_gt_plot(ds_sci, \"oxygen_concentration\", show = True)"
   ]
  },
  {
   "cell_type": "code",
   "execution_count": null,
   "id": "f1e8011c",
   "metadata": {},
   "outputs": [],
   "source": [
    "plots.sci_timeseries_loop(ds_sci, paths[\"plotdir\"])"
   ]
  },
  {
   "cell_type": "code",
   "execution_count": null,
   "id": "95cf5111",
   "metadata": {},
   "outputs": [],
   "source": [
    "import matplotlib.pyplot as plt\n",
    "x = ds_sci.time.values\n",
    "y = ds_sci.oxygen_saturation.values\n",
    "\n",
    "plt.figure(figsize=(6, 4))\n",
    "plt.scatter(x, y, color='blue', marker='o')\n",
    "\n",
    "# Add labels and title\n",
    "plt.xlabel('X axis')\n",
    "plt.ylabel('Y axis')\n",
    "plt.title('Basic Scatter Plot')"
   ]
  },
  {
   "cell_type": "markdown",
   "id": "e7e8c663",
   "metadata": {},
   "source": [
    "# Gridded file exploration"
   ]
  },
  {
   "cell_type": "code",
   "execution_count": null,
   "id": "8103a3bf",
   "metadata": {},
   "outputs": [],
   "source": [
    "path_g5 = os.path.join( paths[\"griddir\"], f\"{deployment_name}_grid-{mode}-5m.nc\")\n",
    "ds_g5 = xr.load_dataset(path_g5)\n",
    "ds_g5"
   ]
  },
  {
   "cell_type": "code",
   "execution_count": null,
   "id": "b4e46336",
   "metadata": {},
   "outputs": [],
   "source": [
    "ds_g5.profile_time_start.values"
   ]
  },
  {
   "cell_type": "markdown",
   "id": "1aa00517",
   "metadata": {},
   "source": [
    "Chunk with which to run make_gridfiles in debug mdoe"
   ]
  },
  {
   "cell_type": "code",
   "execution_count": null,
   "id": "359e411a",
   "metadata": {},
   "outputs": [],
   "source": [
    "from pyglider import ncprocess as pgncprocess\n",
    "pgncprocess.make_gridfiles(\n",
    "    path_sci,\n",
    "    \"/home/sam_woodman_noaa_gov/grid-test\",\n",
    "    paths[\"deploymentyaml\"],\n",
    "    dz=5,\n",
    "    fnamesuffix=f\"-{mode}-5m\",\n",
    ")"
   ]
  }
 ],
 "metadata": {
  "kernelspec": {
   "display_name": "esdglider",
   "language": "python",
   "name": "python3"
  },
  "language_info": {
   "codemirror_mode": {
    "name": "ipython",
    "version": 3
   },
   "file_extension": ".py",
   "mimetype": "text/x-python",
   "name": "python",
   "nbconvert_exporter": "python",
   "pygments_lexer": "ipython3",
   "version": "undefined.undefined.undefined"
  }
 },
 "nbformat": 4,
 "nbformat_minor": 5
}
