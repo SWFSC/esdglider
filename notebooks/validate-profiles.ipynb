{
 "cells": [
  {
   "cell_type": "code",
   "execution_count": null,
   "metadata": {},
   "outputs": [],
   "source": [
    "import os\n",
    "import numpy as np\n",
    "# import pandas as pd\n",
    "import xarray as xr\n",
    "\n",
    "from esdglider import gcp, glider, utils\n",
    "\n",
    "deployment_name = \"amlr03-20231128\"\n",
    "# deployment_name = \"amlr08-20220513\"\n",
    "# deployment_name = \"unit_1024-20250224\"\n",
    "\n",
    "mode = \"delayed\"\n",
    "\n",
    "\n",
    "# Standard \n",
    "bucket_name = 'amlr-gliders-deployments-dev'\n",
    "deployments_path = f\"/home/sam_woodman_noaa_gov/{bucket_name}\"\n",
    "config_path = f\"/home/sam_woodman_noaa_gov/glider-lab/deployment-configs\"\n",
    "\n",
    "gcp.gcs_mount_bucket(\"amlr-gliders-deployments-dev\", deployments_path, ro=False)\n",
    "deployment_info = {\n",
    "    \"deploymentyaml\": os.path.join(config_path, f\"{deployment_name}.yml\"), \n",
    "    \"mode\": mode, \n",
    "}\n",
    "paths = glider.get_path_deployment(deployment_info, deployments_path)\n",
    "\n",
    "dir_ts = paths[\"tsdir\"]\n",
    "path_raw = os.path.join(dir_ts, f\"{deployment_name}-{mode}-raw.nc\")\n",
    "path_sci = os.path.join(dir_ts, f\"{deployment_name}-{mode}-sci.nc\")\n",
    "path_eng = os.path.join(dir_ts, f\"{deployment_name}-{mode}-eng.nc\")"
   ]
  },
  {
   "cell_type": "code",
   "execution_count": null,
   "metadata": {},
   "outputs": [],
   "source": [
    "ds_raw = xr.load_dataset(paths[\"tsrawpath\"])\n",
    "df_raw = ds_raw.to_pandas()\n",
    "display(ds_raw)"
   ]
  },
  {
   "cell_type": "code",
   "execution_count": null,
   "metadata": {},
   "outputs": [],
   "source": [
    "ds_eng = xr.load_dataset(paths[\"tsengpath\"])\n",
    "df_eng = ds_eng.to_pandas()\n",
    "display(ds_eng)\n",
    "\n",
    "ds_sci = xr.load_dataset(paths[\"tsscipath\"])\n",
    "df_sci = ds_sci.to_pandas()\n",
    "display(ds_sci)"
   ]
  },
  {
   "cell_type": "code",
   "execution_count": null,
   "metadata": {},
   "outputs": [],
   "source": [
    "ds = ds_sci\n",
    "dt = \"2025-02-25\"\n",
    "ds_sub = ds.sel(time=slice(f\"{dt} 17:00\", dt))\n",
    "ds_sub = utils.data_var_reorder(ds_sub, [\"profile_index\", \"profile_direction\"])\n",
    "ds_sub"
   ]
  },
  {
   "cell_type": "markdown",
   "metadata": {},
   "source": [
    "## Profile checks"
   ]
  },
  {
   "cell_type": "code",
   "execution_count": null,
   "metadata": {},
   "outputs": [],
   "source": [
    "display(utils.check_profiles(ds_eng))\n",
    "display(utils.check_profiles(ds_sci))\n",
    "\n",
    "# idx_list = [454.5, 578.5, 582.5, 586.5, 602.5, 626.5, 628.5, 630.5, 632.5, 634.5, 636.5, 650.5, 652.5]\n",
    "# p1 = utils.check_profiles(ds_sci)\n",
    "# p1e = p1[np.isin(p1[\"profile_ibndex\"], idx_list)]\n",
    "# p1e\n",
    "df_check = utils.check_profiles(ds_raw)\n",
    "display(df_check)"
   ]
  },
  {
   "cell_type": "code",
   "execution_count": null,
   "metadata": {},
   "outputs": [],
   "source": [
    "# ds = ds_raw\n",
    "# dt = \"2022-05-14\"\n",
    "# ds_sub = ds.sel(time=slice(f\"{dt} 18:00\", dt))\n",
    "# ds_sub"
   ]
  },
  {
   "cell_type": "markdown",
   "metadata": {},
   "source": [
    "<!-- ## Testing new profile parameters -->"
   ]
  },
  {
   "cell_type": "markdown",
   "metadata": {},
   "source": [
    "## Exploring new profile calculations"
   ]
  },
  {
   "cell_type": "code",
   "execution_count": null,
   "metadata": {},
   "outputs": [],
   "source": [
    "ds_touse = ds_raw\n",
    "\n",
    "# import math\n",
    "vars_keep = [\"longitude\", \"latitude\", \"depth\", #\"depth_ctd\", \n",
    "                \"profile_index\", \"profile_direction\"]\n",
    "x_orig = utils.data_var_reorder(ds_touse, vars_keep)\n",
    "regions_df_orig = utils.calc_regions(x_orig)\n",
    "# print(x_orig.profile_index.attrs)\n",
    "\n",
    "# pgutils.get_profiles_new(x, filt_time=20)\n",
    "p1, p2 = utils.findProfiles(\n",
    "        x_orig.time.values,\n",
    "        x_orig.depth.values,\n",
    "        stall=3,\n",
    "        shake=20, \n",
    "        interrupt = 180,\n",
    "        inversion = 3, \n",
    "        length=10, \n",
    "        period=0, \n",
    "        # stall=10,\n",
    "        # interrupt=600,\n",
    "    )\n",
    "\n",
    "orig = [\"profile_index_orig\", \"profile_direction_orig\"]\n",
    "x = x_orig.rename_vars({\"profile_index\": orig[0], \"profile_direction\": orig[1]})\n",
    "x[\"profile_index\"] = ('time', p1, {})\n",
    "x[\"profile_direction\"] = ('time', p2, {})\n",
    "x = utils.data_var_reorder(x, (vars_keep + orig))\n",
    "\n",
    "# x[\"dives\"] = ('time', gt.utils.calc_dive_number(x.time.values, x.depth.values, dive_depth_threshold=15), {})\n",
    "# display(x)\n",
    "\n",
    "ds = x\n",
    "# dt = \"2025-02-24\"\n",
    "dt = \"2025-02-24\"\n",
    "ds_sub = ds.sel(time=slice(f\"{dt} 23:00\", \"2025-02-25\"))\n",
    "ds_sub"
   ]
  },
  {
   "cell_type": "code",
   "execution_count": null,
   "metadata": {},
   "outputs": [],
   "source": [
    "# Check profiles\n",
    "prof_summ = utils.check_profiles(x)\n",
    "print(f\"Dives: {np.count_nonzero(prof_summ.profile_description.values == \"Dive\")}\")\n",
    "print(f\"Climbs: {np.count_nonzero(prof_summ.profile_description.values == \"Climb\")}\")\n",
    "prof_summ"
   ]
  },
  {
   "cell_type": "code",
   "execution_count": null,
   "metadata": {},
   "outputs": [],
   "source": [
    "# Check profiles on eng and sci datasets\n",
    "x_eng = utils.join_profiles(ds_eng, utils.calc_profile_summary(x))\n",
    "display(utils.check_profiles(x_eng))\n",
    "\n",
    "x_sci = utils.join_profiles(ds_sci, utils.calc_profile_summary(x))\n",
    "display(utils.check_profiles(x_sci))"
   ]
  },
  {
   "cell_type": "code",
   "execution_count": null,
   "metadata": {},
   "outputs": [],
   "source": [
    "x_sci"
   ]
  },
  {
   "cell_type": "code",
   "execution_count": null,
   "metadata": {},
   "outputs": [],
   "source": [
    "# regions_df_orig = utils.calc_regions(x_orig)\n",
    "# regions_df = utils.calc_regions(x)\n",
    "# # display(regions_df)\n",
    "# # print(np.argwhere(regions_df_orig.profile_description == np.roll(regions_df_orig.profile_description, 1)))\n",
    "\n",
    "# # print(regions_df[\"profile_direction\"].value_counts())\n",
    "# print(\"------------\")\n",
    "# print(f\"Climbs orig: {np.count_nonzero(regions_df_orig[\"profile_direction\"] == -1)}\")\n",
    "# print(f\"Dives orig: {np.count_nonzero(regions_df_orig[\"profile_direction\"] == 1)}\")\n",
    "# utils.check_profiles(x_orig)\n",
    "\n",
    "# print(\"------------\")\n",
    "# print(f\"Climbs: {np.count_nonzero(regions_df[\"profile_direction\"] == -1)}\")\n",
    "# print(f\"Dives: {np.count_nonzero(regions_df[\"profile_direction\"] == 1)}\")\n",
    "# utils.check_profiles(x)\n",
    "\n",
    "# regions_df\n",
    "# regions_df_orig\n",
    "# \n",
    "# \n",
    "# prof_summ_df_orig = utils.check_profiles(x_orig)\n",
    "# prof_summ_df = utils.check_profiles(x)\n",
    "\n",
    "# between_df_orig = prof_summ_df_orig[prof_summ_df_orig[\"profile_index\"] % 1 == 0.5]\n",
    "# between_df = prof_summ_df[prof_summ_df[\"profile_index\"] % 1 == 0.5]\n",
    "\n",
    "# # print((between_df_orig.end_time - between_df_orig.start_time).describe())\n",
    "# # print((between_df.end_time - between_df.start_time).describe())\n",
    "\n",
    "# print(abs(between_df_orig.end_depth - between_df_orig.start_depth).describe())\n",
    "# print(abs(between_df.end_depth - between_df.start_depth).describe())\n",
    "\n",
    "# prof_summ_df_orig"
   ]
  },
  {
   "cell_type": "code",
   "execution_count": null,
   "metadata": {},
   "outputs": [],
   "source": [
    "z = xr.load_dataset(\"/home/sam_woodman_noaa_gov/depfrbyrd_amlr03_sgg3_L1_2023-11-27_data_rt.nc\")\n",
    "z"
   ]
  },
  {
   "cell_type": "code",
   "execution_count": null,
   "metadata": {},
   "outputs": [],
   "source": [
    "# pgutils.get_profiles_new(x, filt_time=20)\n",
    "p1, p2 = utils.findProfiles(\n",
    "        z.time.values,\n",
    "        z.depth.values,\n",
    "        stall=20,\n",
    "        # shake=200, \n",
    "        # interrupt = 600,\n",
    "        # inversion = 10\n",
    "    )\n",
    "\n",
    "# orig = [\"profile_index_orig\", \"profile_direction_orig\"]\n",
    "# x = x_orig.rename_vars({\"profile_index\": orig[0], \"profile_direction\": orig[1]})\n",
    "z[\"profile_index_new\"] = ('time', p1, {})\n",
    "z[\"profile_direction_new\"] = ('time', p2, {})\n",
    "# x = utils.data_var_reorder(x, (vars_keep + orig))\n",
    "z"
   ]
  },
  {
   "cell_type": "code",
   "execution_count": null,
   "metadata": {},
   "outputs": [],
   "source": [
    "import matplotlib.pyplot as plt\n",
    "depth = np.array([4, 4, 3, 2, 3, 4, 4, 5, 6, 6, 6, 5, 4, 4, 5, 3, 2, 3, 1, 1, 0, 4, 4])\n",
    "x = np.arange(0, len(depth))\n",
    "\n",
    "profile_index, profile_direction = utils.findProfiles(x, depth)\n",
    "# %    figure\n",
    "# %    subplot(3, 1, 1, 'XGrid','on','YGrid','on', 'NextPlot', 'add')\n",
    "# %    stairs(profile_direction, '-g')\n",
    "# %    subplot(3, 1, 2, 'XGrid','on','YGrid','on', 'NextPlot', 'add')\n",
    "# %    plot(depth, '-db')\n",
    "# %    subplot(3, 1, 3, 'XGrid','on','YGrid','on', 'NextPlot', 'add')\n",
    "# %    stairs(profile_index, '-r')\n",
    "# %    [profile_index, profile_direction] = findProfiles(depth, 'stall', 1.5)\n",
    "# %    stairs(profile_index, '-c')\n",
    "# %    [profile_index, profile_direction] = ...\n",
    "# %       findProfiles(depth, 'stall', 1.5, 'inversion', 1.5, 'interrupt', inf)\n",
    "# %    stairs(profile_index, '-m')\n",
    "\n",
    "# Plotting\n",
    "fig, axs = plt.subplots(3, 1, figsize=(10, 8), sharex=True)\n",
    "axs[0].grid(True)\n",
    "axs[0].stairs(profile_direction, color='g')\n",
    "axs[0].set_title('Profile Direction')\n",
    "\n",
    "axs[1].grid(True)\n",
    "axs[1].plot(depth, '-db')\n",
    "axs[1].set_title('Depth')\n",
    "axs[1].invert_yaxis()\n",
    "\n",
    "axs[2].grid(True)\n",
    "axs[2].stairs(profile_index, color='r')\n",
    "axs[2].set_title('Profile Index')\n",
    "\n",
    "# Second call with stall parameter\n",
    "profile_index, profile_direction = utils.findProfiles(x, depth, stall=1.5)\n",
    "axs[2].stairs(profile_index, color='c', label='stall=1.5')\n",
    "\n",
    "# Third call with more parameters\n",
    "profile_index, profile_direction = utils.findProfiles(\n",
    "    x, depth, stall=1.5, inversion=1.5, interrupt=np.inf)\n",
    "axs[2].stairs(profile_index, color='m', label='stall=1.5, inversion=1.5, interrupt=inf')\n",
    "\n",
    "axs[2].legend()\n",
    "plt.tight_layout()\n",
    "plt.show()"
   ]
  }
 ],
 "metadata": {
  "kernelspec": {
   "display_name": "esdglider",
   "language": "python",
   "name": "python3"
  },
  "language_info": {
   "codemirror_mode": {
    "name": "ipython",
    "version": 3
   },
   "file_extension": ".py",
   "mimetype": "text/x-python",
   "name": "python",
   "nbconvert_exporter": "python",
   "pygments_lexer": "ipython3",
   "version": "undefined.undefined.undefined"
  }
 },
 "nbformat": 4,
 "nbformat_minor": 2
}
