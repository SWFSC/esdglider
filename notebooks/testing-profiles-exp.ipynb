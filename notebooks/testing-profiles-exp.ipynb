{
 "cells": [
  {
   "cell_type": "code",
   "execution_count": null,
   "metadata": {},
   "outputs": [],
   "source": [
    "import os\n",
    "import numpy as np\n",
    "import pandas as pd\n",
    "import xarray as xr\n",
    "import math\n",
    "\n",
    "from esdglider import gcp, glider, utils\n",
    "\n",
    "deployment_info = {\n",
    "    \"deployment\": 'amlr08-20220513', \n",
    "    \"project\": \"SANDIEGO\", \n",
    "    \"mode\": 'delayed', \n",
    "    \"min_dt\": '2022-05-13 18:56:55', \n",
    "}\n",
    "# deployment_info = {\n",
    "#     \"deployment\": 'calanus-20241019', \n",
    "#     \"project\": \"ECOSWIM\", \n",
    "#     \"mode\": 'delayed', \n",
    "#     \"min_dt\": '2024-10-19 17:37:00', \n",
    "# }\n",
    "# deployment_info = {\n",
    "#     \"deployment\": 'amlr03-20231128', \n",
    "#     \"project\": \"FREEBYRD\", \n",
    "#     \"mode\": 'delayed', \n",
    "#     \"min_dt\": '2023-11-28 20:46', \n",
    "# }\n",
    "deployment = deployment_info[\"deployment\"]\n",
    "project = deployment_info[\"project\"]\n",
    "mode = deployment_info[\"mode\"]\n",
    "\n",
    "year = utils.year_path(project, deployment)\n",
    "bucket_name = 'amlr-gliders-deployments-dev'\n",
    "deployments_path = f\"/home/sam_woodman_noaa_gov/{bucket_name}\"\n",
    "config_path = f\"/home/sam_woodman_noaa_gov/glider-lab/deployment-config\"\n",
    "\n",
    "gcp.gcs_mount_bucket(\"amlr-gliders-deployments-dev\", deployments_path, ro=False)\n",
    "\n",
    "\n",
    "paths = glider.get_path_deployment(\n",
    "    deployment_info, deployments_path, config_path)\n",
    "\n",
    "dir_ts = paths[\"tsdir\"]\n",
    "path_sci = os.path.join(dir_ts, f\"{deployment}-{mode}-sci.nc\")\n",
    "path_eng = os.path.join(dir_ts, f\"{deployment}-{mode}-eng.nc\")\n",
    "\n",
    "# dir_ngdac = paths[\"profdir\"]\n",
    "# if os.path.isdir(dir_ngdac):\n",
    "#     files_ngdac = os.listdir(dir_ngdac)\n",
    "# files_ngdac\n",
    "# os.path.join(paths[\"profdir\"], f\"{deployment} -{mode}.nc\")\n",
    "# path_sci = os.path.join(dir_ts, 'calanus-20241019-sci.nc')\n",
    "# path_eng = os.path.join(dir_ts, 'calanus-20241019-eng.nc')\n"
   ]
  },
  {
   "cell_type": "code",
   "execution_count": null,
   "metadata": {},
   "outputs": [],
   "source": [
    "ds_raw = xr.load_dataset(os.path.join(dir_ts, f\"{deployment}-{mode}-raw.nc\"))\n",
    "df_raw = ds_raw.to_pandas()\n",
    "display(ds_raw)\n",
    "\n",
    "ds_eng = xr.load_dataset(path_eng)\n",
    "df_eng = ds_eng.to_pandas()\n",
    "display(ds_eng)\n",
    "\n",
    "ds_sci = xr.load_dataset(path_sci)\n",
    "df_sci = ds_sci.to_pandas()\n",
    "display(ds_sci)"
   ]
  },
  {
   "cell_type": "code",
   "execution_count": null,
   "metadata": {},
   "outputs": [],
   "source": [
    "# print(df_raw.profile_index.describe())\n",
    "# print(df_eng.profile_index.describe())\n",
    "# print(df_sci.profile_index.describe())\n",
    "\n",
    "# print(f\"There are {np.count_nonzero(np.isnan(ds_raw.profile_index))} nan profile indices\")\n",
    "# print(f\"There are {np.count_nonzero(np.isnan(ds_sci.profile_index))} nan profile indices\")\n",
    "# print(f\"There are {np.count_nonzero(np.isnan(ds_eng.profile_index))} nan profile indices\")\n",
    "\n",
    "# prof_summ = utils.check_profiles(ds_raw)\n",
    "# prof_summ"
   ]
  },
  {
   "cell_type": "code",
   "execution_count": null,
   "metadata": {},
   "outputs": [],
   "source": [
    "ds_raw[\"profile_index\"] = ('time', np.full(len(ds_raw.time), np.nan), {})\n",
    "ds_raw[\"profile_direction\"] = ('time', np.full(len(ds_raw.time), np.nan), {})\n",
    "ds_raw[\"distance_over_ground\"] = ('time', np.full(len(ds_raw.time), np.nan), {})\n",
    "\n",
    "vars_keep = [\"longitude\", \"latitude\", \"depth\", \"profile_index\", \"profile_direction\"]\n",
    "x_orig = utils.data_var_reorder(ds_raw, vars_keep)\n",
    "# regions_df_orig = utils.calc_regions(x_orig)\n",
    "\n",
    "# pgutils.get_profiles_new(x, filt_time=20)\n",
    "p1, p2 = utils.findProfiles(\n",
    "        x_orig.time.values,\n",
    "        x_orig.depth.values,\n",
    "        stall=10,\n",
    "        # shake=200,\n",
    "        # inversion = 10, \n",
    "        interrupt = 600,\n",
    "        # period = 60, \n",
    "        # length = 8, \n",
    "    )\n",
    "\n",
    "orig = [\"profile_index_orig\", \"profile_direction_orig\"]\n",
    "x = x_orig.rename_vars({\"profile_index\": orig[0], \"profile_direction\": orig[1]})\n",
    "x[\"profile_index\"] = ('time', p1, {})\n",
    "x[\"profile_direction\"] = ('time', p2, {})\n",
    "x = utils.data_var_reorder(x, (vars_keep + orig))\n",
    "# x"
   ]
  },
  {
   "cell_type": "code",
   "execution_count": null,
   "metadata": {},
   "outputs": [],
   "source": [
    "# # Explore\n",
    "# dt = \"2024-10-30\"\n",
    "# x2 = x.sel(time = slice(f\"{dt} 12:00\", dt))\n",
    "# # x2 = x.isel(time=[0])\n",
    "# x2_df = x2.to_pandas()\n",
    "# x2"
   ]
  },
  {
   "cell_type": "code",
   "execution_count": null,
   "metadata": {},
   "outputs": [],
   "source": [
    "# Check profiles\n",
    "prof_summ = utils.check_profiles(x)\n",
    "print(f\"Dives: {np.count_nonzero(prof_summ.profile_description.values == \"Dive\")}\")\n",
    "prof_summ"
   ]
  },
  {
   "cell_type": "code",
   "execution_count": null,
   "metadata": {},
   "outputs": [],
   "source": [
    "idx_list = [208.5, 212.5, 224.5, 228.5, 232.5, 266.5, 270.5, 274.5, 290.5, 294.5, 544.5]\n",
    "prof_summ[np.isin(prof_summ.profile_index, idx_list)]"
   ]
  },
  {
   "cell_type": "code",
   "execution_count": null,
   "metadata": {},
   "outputs": [],
   "source": [
    "df = prof_summ[prof_summ.profile_loc == \"Profile\"]\n",
    "# Create a boolean mask of consecutive duplicates\n",
    "mask = df['profile_description'] == df['profile_description'].shift()\n",
    "\n",
    "# Get the indices where the phase is repeated\n",
    "repeated_indices = df.index[mask].tolist()\n",
    "repeated_indices"
   ]
  },
  {
   "cell_type": "code",
   "execution_count": null,
   "metadata": {},
   "outputs": [],
   "source": [
    "time_values = ds_sci['time'].values\n",
    "assigned_values = np.full(time_values.shape, np.nan, dtype=np.float64)\n",
    "for _, row in prof_summ.iterrows():\n",
    "    mask = (time_values >= row['start_time']) & (time_values <= row['end_time'])\n",
    "    assigned_values[mask] = row['profile_index']\n",
    "\n",
    "assigned_values\n",
    "ds_sci['prof'] = (('time',), assigned_values)\n",
    "print(f\"There are {np.count_nonzero(np.isnan(ds_sci['prof']))} nan profile indices\")\n",
    "\n",
    "ds_sci"
   ]
  },
  {
   "cell_type": "code",
   "execution_count": null,
   "metadata": {},
   "outputs": [],
   "source": [
    "(ds_sci.profile_index - ds_sci.prof).to_pandas().value_counts()"
   ]
  },
  {
   "cell_type": "code",
   "execution_count": null,
   "metadata": {},
   "outputs": [],
   "source": [
    "# Checking gaps between time points for each dataset\n",
    "\n",
    "x1 = np.diff(ds.time.values)\n",
    "x1"
   ]
  },
  {
   "cell_type": "code",
   "execution_count": null,
   "metadata": {},
   "outputs": [],
   "source": [
    "# Explore\n",
    "dt = \"2024-10-21\"\n",
    "x3 = ds_eng.sel(time = slice(f\"{dt} 14:00\", dt))\n",
    "display(ds_eng.isel(time=[36139]))\n",
    "# x2_df = x2.to_pandas()\n",
    "x3"
   ]
  },
  {
   "cell_type": "code",
   "execution_count": null,
   "metadata": {},
   "outputs": [],
   "source": [
    "# Explore\n",
    "dt = \"2024-10-21\"\n",
    "x4 = ds_sci.sel(time = slice(f\"{dt} 14:00\", dt))\n",
    "# display(ds_eng.isel(time=[36139]))\n",
    "# x2_df = x2.to_pandas()\n",
    "x4"
   ]
  }
 ],
 "metadata": {
  "kernelspec": {
   "display_name": "esdglider",
   "language": "python",
   "name": "python3"
  },
  "language_info": {
   "codemirror_mode": {
    "name": "ipython",
    "version": 3
   },
   "file_extension": ".py",
   "mimetype": "text/x-python",
   "name": "python",
   "nbconvert_exporter": "python",
   "pygments_lexer": "ipython3",
   "version": "3.12.9"
  }
 },
 "nbformat": 4,
 "nbformat_minor": 2
}
