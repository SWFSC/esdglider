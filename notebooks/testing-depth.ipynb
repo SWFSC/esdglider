{
 "cells": [
  {
   "cell_type": "code",
   "execution_count": null,
   "metadata": {},
   "outputs": [],
   "source": [
    "import os\n",
    "import numpy as np\n",
    "import pandas as pd\n",
    "import xarray as xr\n",
    "import math\n",
    "\n",
    "from esdglider import gcp, glider, utils\n",
    "\n",
    "# deployment_info = {\n",
    "#     \"deployment\": \"amlr08-20220513\",\n",
    "#     \"project\": \"SANDIEGO\",\n",
    "#     \"mode\": \"delayed\",\n",
    "#     \"min_dt\": \"2022-05-13 18:56:55\",\n",
    "# }\n",
    "# deployment_info = {\n",
    "#     \"deployment\": \"unit_1024-20250224\",\n",
    "#     \"project\": \"SANDIEGO\",\n",
    "#     \"mode\": \"delayed\",\n",
    "#     \"min_dt\": \"2025-02-24\",\n",
    "# }\n",
    "# deployment_info = {\n",
    "#     \"deployment\": \"stenella-20250414\",\n",
    "#     \"project\": \"SANDIEGO\",\n",
    "#     \"mode\": \"delayed\",\n",
    "#     \"min_dt\": \"2025-04-14 18:45:00\",\n",
    "# }\n",
    "# deployment_info = {\n",
    "#     \"deployment\": 'calanus-20241019', \n",
    "#     \"project\": \"ECOSWIM\", \n",
    "#     \"mode\": 'delayed', \n",
    "#     \"min_dt\": '2024-10-19 17:37:00', \n",
    "# }\n",
    "deployment_info = {\n",
    "    \"deployment\": 'amlr03-20231128', \n",
    "    \"project\": \"FREEBYRD\", \n",
    "    \"mode\": 'delayed', \n",
    "    \"min_dt\": '2023-11-28 20:46', \n",
    "}\n",
    "deployment = deployment_info[\"deployment\"]\n",
    "project = deployment_info[\"project\"]\n",
    "mode = deployment_info[\"mode\"]\n",
    "\n",
    "year = utils.year_path(project, deployment)\n",
    "bucket_name = 'amlr-gliders-deployments-dev'\n",
    "deployments_path = f\"/home/sam_woodman_noaa_gov/{bucket_name}\"\n",
    "config_path = f\"/home/sam_woodman_noaa_gov/glider-lab/deployment-config\"\n",
    "\n",
    "gcp.gcs_mount_bucket(\"amlr-gliders-deployments-dev\", deployments_path, ro=False)\n",
    "\n",
    "\n",
    "paths = glider.get_path_deployment(\n",
    "    deployment_info, deployments_path, config_path)\n",
    "\n",
    "dir_ts = paths[\"tsdir\"]\n",
    "path_raw = os.path.join(dir_ts, f\"{deployment}-{mode}-raw.nc\")\n",
    "path_sci = os.path.join(dir_ts, f\"{deployment}-{mode}-sci.nc\")\n",
    "path_eng = os.path.join(dir_ts, f\"{deployment}-{mode}-eng.nc\")\n",
    "\n",
    "# dir_ngdac = paths[\"profdir\"]\n",
    "# if os.path.isdir(dir_ngdac):\n",
    "#     files_ngdac = os.listdir(dir_ngdac)\n",
    "# files_ngdac\n",
    "# os.path.join(paths[\"profdir\"], f\"{deployment} -{mode}.nc\")\n",
    "# path_sci = os.path.join(dir_ts, 'calanus-20241019-sci.nc')\n",
    "# path_eng = os.path.join(dir_ts, 'calanus-20241019-eng.nc')\n"
   ]
  },
  {
   "cell_type": "code",
   "execution_count": null,
   "metadata": {},
   "outputs": [],
   "source": [
    "ds_raw = xr.load_dataset(path_raw)\n",
    "df_raw = ds_raw.to_pandas()\n",
    "# display(ds_raw)\n",
    "\n",
    "# ds_eng = xr.load_dataset(path_eng)\n",
    "# df_eng = ds_eng.to_pandas()\n",
    "# display(ds_eng)\n",
    "\n",
    "# ds_sci = xr.load_dataset(path_sci)\n",
    "# df_sci = ds_sci.to_pandas()\n",
    "# display(ds_sci)\n",
    "ds_raw"
   ]
  },
  {
   "cell_type": "code",
   "execution_count": null,
   "metadata": {},
   "outputs": [],
   "source": [
    "# d1 = ds_raw.depth.interp(time=ds_raw.time.values)\n",
    "ds_raw[\"depth_interp\"] = ds_raw['depth'].dropna(\"time\").interp(time=ds_raw['depth_ctd'].time)\n",
    "\n",
    "ds_raw[\"depth_diff\"] = ds_raw.depth_interp - ds_raw.depth_ctd\n",
    "display(ds_raw.depth_diff.to_pandas().describe())\n",
    "ds_raw = utils.data_var_reorder(ds_raw, [\"depth\", \"depth_interp\", \"depth_ctd\", \"depth_diff\"])\n",
    "ds_raw"
   ]
  },
  {
   "cell_type": "code",
   "execution_count": null,
   "metadata": {},
   "outputs": [],
   "source": [
    "# ds = ds_raw\n",
    "# dt = \"2024-10-30\"\n",
    "# ds_sub = ds.sel(time=slice(f\"{dt} 04:00\", dt))\n",
    "# ds_sub"
   ]
  },
  {
   "cell_type": "markdown",
   "metadata": {},
   "source": [
    "<!-- ## Testing new profile parameters -->"
   ]
  },
  {
   "cell_type": "markdown",
   "metadata": {},
   "source": [
    "## SOCIB"
   ]
  },
  {
   "cell_type": "code",
   "execution_count": null,
   "metadata": {},
   "outputs": [],
   "source": [
    "sl1 = xr.load_dataset(\"/home/sam_woodman_noaa_gov/depfrbyrd_amlr03_sgg3_L1_2023-11-27_data_rt.nc\")\n",
    "display(sl1)"
   ]
  },
  {
   "cell_type": "code",
   "execution_count": null,
   "metadata": {},
   "outputs": [],
   "source": [
    "display(sl1)"
   ]
  },
  {
   "cell_type": "code",
   "execution_count": null,
   "metadata": {},
   "outputs": [],
   "source": [
    "sl1[\"depth_diff\"] = sl1.depth - sl1.depth_ctd\n",
    "display(sl1.depth_diff.to_pandas().describe())"
   ]
  }
 ],
 "metadata": {
  "kernelspec": {
   "display_name": "esdglider",
   "language": "python",
   "name": "python3"
  },
  "language_info": {
   "codemirror_mode": {
    "name": "ipython",
    "version": 3
   },
   "file_extension": ".py",
   "mimetype": "text/x-python",
   "name": "python",
   "nbconvert_exporter": "python",
   "pygments_lexer": "ipython3",
   "version": "3.12.9"
  }
 },
 "nbformat": 4,
 "nbformat_minor": 2
}
