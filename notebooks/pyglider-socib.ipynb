{
 "cells": [
  {
   "cell_type": "markdown",
   "id": "fae6ecb3",
   "metadata": {},
   "source": [
    "This notebook explores differences between pyglider and socib output"
   ]
  },
  {
   "cell_type": "markdown",
   "id": "f484a36f",
   "metadata": {},
   "source": [
    "Load pyglider things"
   ]
  },
  {
   "cell_type": "code",
   "execution_count": null,
   "id": "d52a0efa",
   "metadata": {},
   "outputs": [],
   "source": [
    "import os\n",
    "import dbdreader\n",
    "import numpy as np\n",
    "import pandas as pd\n",
    "import xarray as xr\n",
    "\n",
    "from esdglider import gcp, glider\n",
    "import pyglider.utils as pgutils\n",
    "\n",
    "# deployment_info = {\n",
    "#     \"deployment_name\": \"calanus-20241019\",\n",
    "#     \"mode\": \"delayed\",\n",
    "# }\n",
    "deployment_info = {\n",
    "    \"deployment_name\": \"amlr03-20231128\",\n",
    "    \"mode\": \"delayed\",\n",
    "}\n",
    "# deployment_info = {\n",
    "#     \"deployment_name\": \"amlr08-20220513\",\n",
    "#     \"mode\": \"delayed\",\n",
    "# }\n",
    "\n",
    "# Standard \n",
    "deployment_name = deployment_info[\"deployment_name\"]\n",
    "mode = deployment_info[\"mode\"]\n",
    "bucket_name = 'amlr-gliders-deployments-dev'\n",
    "deployments_path = f\"/home/sam_woodman_noaa_gov/{bucket_name}\"\n",
    "config_path = f\"/home/sam_woodman_noaa_gov/glider-lab/deployment-configs\"\n",
    "\n",
    "gcp.gcs_mount_bucket(\"amlr-gliders-deployments-dev\", deployments_path, ro=False)\n",
    "deployment_info[\"deploymentyaml\"] = os.path.join(\n",
    "    config_path, \n",
    "    f\"{deployment_info[\"deployment_name\"]}.yml\", \n",
    ")\n",
    "\n",
    "paths = glider.get_path_deployment(deployment_info, deployments_path)\n",
    "\n",
    "socib_path = \"/home/sam_woodman_noaa_gov/socib-amlr03-20231128\""
   ]
  },
  {
   "cell_type": "code",
   "execution_count": null,
   "id": "86df5812",
   "metadata": {},
   "outputs": [],
   "source": [
    "dssci = xr.load_dataset(paths[\"tsscipath\"])\n",
    "dssci"
   ]
  },
  {
   "cell_type": "code",
   "execution_count": null,
   "id": "42d5a05a",
   "metadata": {},
   "outputs": [],
   "source": [
    "dsgr5 = xr.load_dataset(paths[\"gr5path\"])\n",
    "dsgr5"
   ]
  },
  {
   "cell_type": "markdown",
   "id": "98d1684c",
   "metadata": {},
   "source": [
    "Load socib things"
   ]
  },
  {
   "cell_type": "code",
   "execution_count": null,
   "id": "82b3fbdd",
   "metadata": {},
   "outputs": [],
   "source": [
    "socibl1 = xr.open_dataset(f\"{socib_path}/depfrbyrd_amlr03_sgg3_L1_2023-11-27_data_rt.nc\")\n",
    "socibl1"
   ]
  },
  {
   "cell_type": "code",
   "execution_count": null,
   "id": "46f6d9ad",
   "metadata": {},
   "outputs": [],
   "source": [
    "socibl2 = xr.open_dataset(f\"{socib_path}/dep201_amlr01_sgg3_L2_2018-12-08_data_rt.nc\")\n",
    "socibl2"
   ]
  },
  {
   "cell_type": "markdown",
   "id": "c1446b25",
   "metadata": {},
   "source": [
    "Explore differences. What is the difference between profiles?"
   ]
  },
  {
   "cell_type": "code",
   "execution_count": null,
   "id": "dae688c0",
   "metadata": {},
   "outputs": [],
   "source": [
    "dsgr5.profile"
   ]
  },
  {
   "cell_type": "code",
   "execution_count": null,
   "id": "ade36bef",
   "metadata": {},
   "outputs": [],
   "source": [
    "socibl2.profile_index.values"
   ]
  }
 ],
 "metadata": {
  "kernelspec": {
   "display_name": "esdglider",
   "language": "python",
   "name": "python3"
  },
  "language_info": {
   "codemirror_mode": {
    "name": "ipython",
    "version": 3
   },
   "file_extension": ".py",
   "mimetype": "text/x-python",
   "name": "python",
   "nbconvert_exporter": "python",
   "pygments_lexer": "ipython3",
   "version": "3.12.11"
  }
 },
 "nbformat": 4,
 "nbformat_minor": 5
}
