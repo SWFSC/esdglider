{
 "cells": [
  {
   "cell_type": "markdown",
   "id": "fae6ecb3",
   "metadata": {},
   "source": [
    "This notebook is inteded for exploring why certain data are identified by pyglider's find_gaps. \n",
    "\n",
    "This notebook was to inform https://github.com/c-proof/pyglider/issues/225"
   ]
  },
  {
   "cell_type": "code",
   "execution_count": null,
   "id": "d52a0efa",
   "metadata": {},
   "outputs": [],
   "source": [
    "import os\n",
    "import dbdreader\n",
    "import numpy as np\n",
    "import pandas as pd\n",
    "import xarray as xr\n",
    "\n",
    "from esdglider import gcp, glider\n",
    "import pyglider.utils as pgutils\n",
    "\n",
    "# deployment_info = {\n",
    "#     \"deployment_name\": \"calanus-20241019\",\n",
    "#     \"mode\": \"delayed\",\n",
    "# }\n",
    "# deployment_info = {\n",
    "#     \"deployment_name\": \"amlr03-20231128\",\n",
    "#     \"mode\": \"delayed\",\n",
    "# }\n",
    "deployment_info = {\n",
    "    \"deployment_name\": \"amlr08-20220513\",\n",
    "    \"mode\": \"delayed\",\n",
    "}\n",
    "maxgap = 60\n",
    "\n",
    "# Standard \n",
    "deployment_name = deployment_info[\"deployment_name\"]\n",
    "mode = deployment_info[\"mode\"]\n",
    "bucket_name = 'amlr-gliders-deployments-dev'\n",
    "deployments_path = f\"/home/sam_woodman_noaa_gov/{bucket_name}\"\n",
    "config_path = f\"/home/sam_woodman_noaa_gov/glider-lab/deployment-configs\"\n",
    "\n",
    "gcp.gcs_mount_bucket(\"amlr-gliders-deployments-dev\", deployments_path, ro=False)\n",
    "deployment_info[\"deploymentyaml\"] = os.path.join(\n",
    "    config_path, \n",
    "    f\"{deployment_info[\"deployment_name\"]}.yml\", \n",
    ")\n",
    "\n",
    "paths = glider.get_path_glider(deployment_info, deployments_path)\n",
    "print(paths[\"binarydir\"])"
   ]
  },
  {
   "cell_type": "markdown",
   "id": "eb16aafe",
   "metadata": {},
   "source": [
    "Read in data with dbdreader, mirroring binary_to_timeseries"
   ]
  },
  {
   "cell_type": "code",
   "execution_count": null,
   "id": "af173cc4",
   "metadata": {},
   "outputs": [],
   "source": [
    "dbd = dbdreader.MultiDBD(\n",
    "    pattern=f'{paths[\"binarydir\"]}/{\"*.[D|E|d|e][Bb][Dd]\"}',\n",
    "    cacheDir=paths[\"cacdir\"]\n",
    ")\n",
    "thenames = [\n",
    "    'latitude', 'longitude', 'conductivity', 'temperature', 'pressure', \n",
    "    'chlorophyll', 'cdom', 'backscatter_700', \n",
    "    'oxygen_concentration', 'oxygen_saturation', \n",
    "    'heading', 'pitch', 'roll', 'waypoint_latitude', 'waypoint_longitude', \n",
    "    'water_velocity_eastward', 'water_velocity_northward'\n",
    "]\n",
    "sensors = [\n",
    "    'sci_water_temp', 'm_lat', 'm_lon', 'sci_water_cond', 'sci_water_pressure', \n",
    "    'sci_flbbcd_chlor_units', 'sci_flbbcd_cdom_units', 'sci_flbbcd_bb_units', \n",
    "    'sci_oxy4_oxygen', 'sci_oxy4_saturation', \n",
    "    'm_heading', 'm_pitch', 'm_roll', 'c_wpt_lat', 'c_wpt_lon', \n",
    "    'm_final_water_vx', 'm_final_water_vy'\n",
    "]\n",
    "\n",
    "\n",
    "# get the data, with `time_base` as the time source that\n",
    "# all other variables are synced to:\n",
    "data = list(dbd.get_sync(*sensors))\n",
    "# get the time:\n",
    "time = data.pop(0)"
   ]
  },
  {
   "cell_type": "markdown",
   "id": "67ae1258",
   "metadata": {},
   "source": [
    "Extract the info for the 'selected' sensor"
   ]
  },
  {
   "cell_type": "code",
   "execution_count": null,
   "id": "bac72e05",
   "metadata": {},
   "outputs": [],
   "source": [
    "name = \"chlorophyll\"\n",
    "nn = np.argwhere([name in s for s in thenames])[0][0]\n",
    "print(nn)\n",
    "print(sensors[nn])"
   ]
  },
  {
   "cell_type": "code",
   "execution_count": null,
   "id": "8e231b7d",
   "metadata": {},
   "outputs": [],
   "source": [
    "val = data[nn]\n",
    "_t, _ = dbd.get(sensors[nn])\n",
    "tg_ind = pgutils.find_gaps(_t, time, maxgap)\n",
    "# val[tg_ind] = np.nan\n",
    "# _log.debug('%s values changed to nan by maxgap', np.count_nonzero(tg_ind))\n",
    "np.count_nonzero(tg_ind)"
   ]
  },
  {
   "cell_type": "markdown",
   "id": "9b852e25",
   "metadata": {},
   "source": [
    "Useful displays"
   ]
  },
  {
   "cell_type": "code",
   "execution_count": null,
   "id": "1c060ecc",
   "metadata": {},
   "outputs": [],
   "source": [
    "timens = (time * 1e9).astype('datetime64[ns]')\n",
    "_tns = (_t * 1e9).astype('datetime64[ns]')\n",
    "df = pd.DataFrame({\"time\": timens, \"val\": val, \"gap\": tg_ind})\n",
    "df"
   ]
  },
  {
   "cell_type": "code",
   "execution_count": null,
   "id": "5bc05415",
   "metadata": {},
   "outputs": [],
   "source": [
    "sens_df = pd.DataFrame({\"time\": _tns, \"val\": _})\n",
    "display(sens_df)\n",
    "\n",
    "sens_df_sort = sens_df.sort_values(\"time\", na_position=\"last\").reset_index(drop=True)\n",
    "sens_df_sort\n",
    "# sens_df_sort = sens_df[np.argsort(sens_df[\"time\"].values)]\n",
    "# sens_df_sort"
   ]
  },
  {
   "cell_type": "markdown",
   "id": "5c700e96",
   "metadata": {},
   "source": [
    "Run find_gaps experiments"
   ]
  },
  {
   "cell_type": "code",
   "execution_count": null,
   "id": "06598b6b",
   "metadata": {},
   "outputs": [],
   "source": [
    "# def find_gaps(sample_time, timebase, maxgap):\n",
    "sample_time = _t\n",
    "timebase = time\n",
    "\n",
    "sample_time = np.sort(sample_time) #smw new line\n",
    "\n",
    "# figure out which sample each time in time base belongs to:\n",
    "time_index = np.searchsorted(sample_time, timebase, side='right')\n",
    "time_index = np.clip(time_index, 0, len(sample_time) - 1)\n",
    "\n",
    "# figure out the space between sample pairs\n",
    "dt = np.concatenate(([0], np.diff(sample_time)))\n",
    "# get the gap size for each timebase data point:\n",
    "ddt = dt[time_index]\n",
    "\n",
    "# get the indices of timebase that are too large and account for the\n",
    "# degenerate case when a timebase point falls directly on a sample time.\n",
    "index = ~np.logical_or((ddt <= maxgap), (np.isin(timebase, sample_time)))\n",
    "print(np.count_nonzero(index))\n",
    "\n",
    "# Sanity check\n",
    "df[\"time_index\"] = time_index\n",
    "df[\"index_gap\"] = index\n",
    "print(np.where(df.gap != df.index_gap)) #np.count_nonzero(df.gap != df.index_gap)\n",
    "df"
   ]
  },
  {
   "cell_type": "code",
   "execution_count": null,
   "id": "26414b71",
   "metadata": {},
   "outputs": [],
   "source": [
    "d = pd.DataFrame({\n",
    "    \"sample_time\": (sample_time * 1e9).astype('datetime64[ns]'), \n",
    "    \"sample_time_s\": sample_time, \n",
    "    \"dt_gap\": dt, \n",
    "})\n",
    "d"
   ]
  },
  {
   "cell_type": "markdown",
   "id": "310582ea",
   "metadata": {},
   "source": [
    "Explore the now-gaps"
   ]
  },
  {
   "cell_type": "code",
   "execution_count": null,
   "id": "3fef73f7",
   "metadata": {},
   "outputs": [],
   "source": [
    "gapped = (timens[tg_ind])\n",
    "print(gapped)"
   ]
  },
  {
   "cell_type": "markdown",
   "id": "71c733b3",
   "metadata": {},
   "source": [
    "Screenshots for pyglider issue"
   ]
  },
  {
   "cell_type": "code",
   "execution_count": null,
   "id": "05994c85",
   "metadata": {},
   "outputs": [],
   "source": [
    "dt = np.concatenate(([0], np.diff(_t)))\n",
    "\n",
    "df = pd.DataFrame({\n",
    "    \"sample_time\": (_t * 1e9).astype('datetime64[ns]'), \n",
    "    \"sensor_value\": _, \n",
    "    \"time_diff\": dt})\n",
    "df.iloc[54445:54460]"
   ]
  },
  {
   "cell_type": "code",
   "execution_count": null,
   "id": "a1e932de",
   "metadata": {},
   "outputs": [],
   "source": [
    "tg_ind = pgutils.find_gaps(_t, time, maxgap)\n",
    "\n",
    "df_gap = pd.DataFrame({\n",
    "    \"timebase\": (time * 1e9).astype('datetime64[ns]'), \n",
    "    \"gap\": index\n",
    "})\n",
    "df_gap[df_gap[\"timebase\"] >= np.datetime64(\"2022-05-14 14:24:50\")]"
   ]
  },
  {
   "cell_type": "code",
   "execution_count": null,
   "id": "c2069244",
   "metadata": {},
   "outputs": [],
   "source": [
    "import pandas as pd\n",
    "import numpy as np\n",
    "import pyglider.utils as pgutils\n",
    "\n",
    "# Create sample_time, and a slightly offset timebase\n",
    "t0 = 1652486400 #number of seconds for \"2022-05-14 00:00:00\"\n",
    "sample_time = np.arange(t0, t0+33, 4)\n",
    "timebase = np.arange((t0+1), (t0+28), 3)\n",
    "maxgap = 5\n",
    "\n",
    "# Change one of the sample_time values to 0 (equivalent of 1970-01-01)\n",
    "sample_time[4] = 0\n",
    "\n",
    "# Run find_gaps - this output is incorrect\n",
    "out1 = pgutils.find_gaps(sample_time, timebase, maxgap)\n",
    "\n",
    "# Print as dataframe for display\n",
    "df = pd.DataFrame(data={\n",
    "    \"sample_time\": (sample_time * 1e9).astype('datetime64[ns]'), \n",
    "    \"timebase\": (timebase * 1e9).astype('datetime64[ns]'), \n",
    "    \"find_gaps_out\": out1\n",
    "})\n",
    "df"
   ]
  }
 ],
 "metadata": {
  "kernelspec": {
   "display_name": "esdglider",
   "language": "python",
   "name": "python3"
  },
  "language_info": {
   "codemirror_mode": {
    "name": "ipython",
    "version": 3
   },
   "file_extension": ".py",
   "mimetype": "text/x-python",
   "name": "python",
   "nbconvert_exporter": "python",
   "pygments_lexer": "ipython3",
   "version": "3.12.11"
  }
 },
 "nbformat": 4,
 "nbformat_minor": 5
}
