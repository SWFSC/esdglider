{
 "cells": [
  {
   "cell_type": "code",
   "execution_count": 1,
   "metadata": {},
   "outputs": [],
   "source": [
    "import os\n",
    "import pandas as pd\n",
    "import sqlalchemy "
   ]
  },
  {
   "cell_type": "markdown",
   "metadata": {},
   "source": [
    "## Create connection to db"
   ]
  },
  {
   "cell_type": "code",
   "execution_count": null,
   "metadata": {},
   "outputs": [],
   "source": [
    "conn_path = os.path.join(\n",
    "    \"C:/SMW/Gliders_Moorings/Gliders/esdglider\", \n",
    "    \"db\", \"glider-db-prod.txt\"\n",
    ")\n",
    "\n",
    "with open(conn_path, \"r\") as f:\n",
    "    conn_string = f.read()\n",
    "# print(conn_string)\n",
    "\n",
    "# establish connection with the database \n",
    "engine = sqlalchemy.create_engine(conn_string)"
   ]
  },
  {
   "cell_type": "markdown",
   "metadata": {},
   "source": [
    "## Explore tables"
   ]
  },
  {
   "cell_type": "code",
   "execution_count": 5,
   "metadata": {},
   "outputs": [],
   "source": [
    "deployments = pd.read_sql_table(\n",
    "    'Glider_Deployment', con = engine, schema = 'dbo', \n",
    "    index_col = \"Glider_Deployment_ID\")\n",
    "# deployments"
   ]
  },
  {
   "cell_type": "code",
   "execution_count": null,
   "metadata": {},
   "outputs": [],
   "source": [
    "pd.read_sql_table(\n",
    "    'Glider_Deployment', con = engine, schema = 'dbo', \n",
    "    index_col = \"Glider_Deployment_ID\")"
   ]
  },
  {
   "cell_type": "markdown",
   "metadata": {},
   "source": [
    "## Process\n",
    "\n",
    "Choose deployments, and pull relevant info"
   ]
  },
  {
   "cell_type": "code",
   "execution_count": null,
   "metadata": {},
   "outputs": [],
   "source": [
    "deployment_curr = \"amlr01-20181216\"\n"
   ]
  }
 ],
 "metadata": {
  "kernelspec": {
   "display_name": "esdglider",
   "language": "python",
   "name": "python3"
  },
  "language_info": {
   "codemirror_mode": {
    "name": "ipython",
    "version": 3
   },
   "file_extension": ".py",
   "mimetype": "text/x-python",
   "name": "python",
   "nbconvert_exporter": "python",
   "pygments_lexer": "ipython3",
   "version": "3.12.9"
  }
 },
 "nbformat": 4,
 "nbformat_minor": 2
}
